{
  "nbformat": 4,
  "nbformat_minor": 0,
  "metadata": {
    "colab": {
      "provenance": []
    },
    "kernelspec": {
      "name": "python3",
      "display_name": "Python 3"
    },
    "language_info": {
      "name": "python"
    },
    "accelerator": "GPU",
    "gpuClass": "standard"
  },
  "cells": [
    {
      "cell_type": "markdown",
      "source": [
        "**importing the libraries**"
      ],
      "metadata": {
        "id": "abvbgmCDcj_G"
      }
    },
    {
      "cell_type": "code",
      "execution_count": 29,
      "metadata": {
        "id": "b9Rwv05TtqD_"
      },
      "outputs": [],
      "source": [
        "import pandas as pd\n",
        "import numpy as np\n",
        "import torch \n",
        "import torch.nn as nn\n",
        "import matplotlib.pyplot as plt\n",
        "from sklearn.model_selection import train_test_split"
      ]
    },
    {
      "cell_type": "markdown",
      "source": [
        "**loading the data**"
      ],
      "metadata": {
        "id": "-Yoz7DMcc7SH"
      }
    },
    {
      "cell_type": "code",
      "source": [
        "df = pd.read_csv('/content/rnn_dataset.csv')"
      ],
      "metadata": {
        "id": "BcuL-PRwFlpY"
      },
      "execution_count": 2,
      "outputs": []
    },
    {
      "cell_type": "code",
      "execution_count": 3,
      "metadata": {
        "colab": {
          "base_uri": "https://localhost:8080/",
          "height": 423
        },
        "id": "ho7Z8C1Ton8C",
        "outputId": "c52d1dbc-d19d-46c7-ed0d-ae131b04afe5"
      },
      "outputs": [
        {
          "output_type": "execute_result",
          "data": {
            "text/plain": [
              "                  Datetime  PJMW_MW\n",
              "0      2002-12-31 01:00:00   5077.0\n",
              "1      2002-12-31 02:00:00   4939.0\n",
              "2      2002-12-31 03:00:00   4885.0\n",
              "3      2002-12-31 04:00:00   4857.0\n",
              "4      2002-12-31 05:00:00   4930.0\n",
              "...                    ...      ...\n",
              "143201 2018-01-01 20:00:00   8401.0\n",
              "143202 2018-01-01 21:00:00   8373.0\n",
              "143203 2018-01-01 22:00:00   8238.0\n",
              "143204 2018-01-01 23:00:00   7958.0\n",
              "143205 2018-01-02 00:00:00   7691.0\n",
              "\n",
              "[143206 rows x 2 columns]"
            ],
            "text/html": [
              "\n",
              "  <div id=\"df-06bee582-35c5-489b-818c-706a0d01418d\">\n",
              "    <div class=\"colab-df-container\">\n",
              "      <div>\n",
              "<style scoped>\n",
              "    .dataframe tbody tr th:only-of-type {\n",
              "        vertical-align: middle;\n",
              "    }\n",
              "\n",
              "    .dataframe tbody tr th {\n",
              "        vertical-align: top;\n",
              "    }\n",
              "\n",
              "    .dataframe thead th {\n",
              "        text-align: right;\n",
              "    }\n",
              "</style>\n",
              "<table border=\"1\" class=\"dataframe\">\n",
              "  <thead>\n",
              "    <tr style=\"text-align: right;\">\n",
              "      <th></th>\n",
              "      <th>Datetime</th>\n",
              "      <th>PJMW_MW</th>\n",
              "    </tr>\n",
              "  </thead>\n",
              "  <tbody>\n",
              "    <tr>\n",
              "      <th>0</th>\n",
              "      <td>2002-12-31 01:00:00</td>\n",
              "      <td>5077.0</td>\n",
              "    </tr>\n",
              "    <tr>\n",
              "      <th>1</th>\n",
              "      <td>2002-12-31 02:00:00</td>\n",
              "      <td>4939.0</td>\n",
              "    </tr>\n",
              "    <tr>\n",
              "      <th>2</th>\n",
              "      <td>2002-12-31 03:00:00</td>\n",
              "      <td>4885.0</td>\n",
              "    </tr>\n",
              "    <tr>\n",
              "      <th>3</th>\n",
              "      <td>2002-12-31 04:00:00</td>\n",
              "      <td>4857.0</td>\n",
              "    </tr>\n",
              "    <tr>\n",
              "      <th>4</th>\n",
              "      <td>2002-12-31 05:00:00</td>\n",
              "      <td>4930.0</td>\n",
              "    </tr>\n",
              "    <tr>\n",
              "      <th>...</th>\n",
              "      <td>...</td>\n",
              "      <td>...</td>\n",
              "    </tr>\n",
              "    <tr>\n",
              "      <th>143201</th>\n",
              "      <td>2018-01-01 20:00:00</td>\n",
              "      <td>8401.0</td>\n",
              "    </tr>\n",
              "    <tr>\n",
              "      <th>143202</th>\n",
              "      <td>2018-01-01 21:00:00</td>\n",
              "      <td>8373.0</td>\n",
              "    </tr>\n",
              "    <tr>\n",
              "      <th>143203</th>\n",
              "      <td>2018-01-01 22:00:00</td>\n",
              "      <td>8238.0</td>\n",
              "    </tr>\n",
              "    <tr>\n",
              "      <th>143204</th>\n",
              "      <td>2018-01-01 23:00:00</td>\n",
              "      <td>7958.0</td>\n",
              "    </tr>\n",
              "    <tr>\n",
              "      <th>143205</th>\n",
              "      <td>2018-01-02 00:00:00</td>\n",
              "      <td>7691.0</td>\n",
              "    </tr>\n",
              "  </tbody>\n",
              "</table>\n",
              "<p>143206 rows × 2 columns</p>\n",
              "</div>\n",
              "      <button class=\"colab-df-convert\" onclick=\"convertToInteractive('df-06bee582-35c5-489b-818c-706a0d01418d')\"\n",
              "              title=\"Convert this dataframe to an interactive table.\"\n",
              "              style=\"display:none;\">\n",
              "        \n",
              "  <svg xmlns=\"http://www.w3.org/2000/svg\" height=\"24px\"viewBox=\"0 0 24 24\"\n",
              "       width=\"24px\">\n",
              "    <path d=\"M0 0h24v24H0V0z\" fill=\"none\"/>\n",
              "    <path d=\"M18.56 5.44l.94 2.06.94-2.06 2.06-.94-2.06-.94-.94-2.06-.94 2.06-2.06.94zm-11 1L8.5 8.5l.94-2.06 2.06-.94-2.06-.94L8.5 2.5l-.94 2.06-2.06.94zm10 10l.94 2.06.94-2.06 2.06-.94-2.06-.94-.94-2.06-.94 2.06-2.06.94z\"/><path d=\"M17.41 7.96l-1.37-1.37c-.4-.4-.92-.59-1.43-.59-.52 0-1.04.2-1.43.59L10.3 9.45l-7.72 7.72c-.78.78-.78 2.05 0 2.83L4 21.41c.39.39.9.59 1.41.59.51 0 1.02-.2 1.41-.59l7.78-7.78 2.81-2.81c.8-.78.8-2.07 0-2.86zM5.41 20L4 18.59l7.72-7.72 1.47 1.35L5.41 20z\"/>\n",
              "  </svg>\n",
              "      </button>\n",
              "      \n",
              "  <style>\n",
              "    .colab-df-container {\n",
              "      display:flex;\n",
              "      flex-wrap:wrap;\n",
              "      gap: 12px;\n",
              "    }\n",
              "\n",
              "    .colab-df-convert {\n",
              "      background-color: #E8F0FE;\n",
              "      border: none;\n",
              "      border-radius: 50%;\n",
              "      cursor: pointer;\n",
              "      display: none;\n",
              "      fill: #1967D2;\n",
              "      height: 32px;\n",
              "      padding: 0 0 0 0;\n",
              "      width: 32px;\n",
              "    }\n",
              "\n",
              "    .colab-df-convert:hover {\n",
              "      background-color: #E2EBFA;\n",
              "      box-shadow: 0px 1px 2px rgba(60, 64, 67, 0.3), 0px 1px 3px 1px rgba(60, 64, 67, 0.15);\n",
              "      fill: #174EA6;\n",
              "    }\n",
              "\n",
              "    [theme=dark] .colab-df-convert {\n",
              "      background-color: #3B4455;\n",
              "      fill: #D2E3FC;\n",
              "    }\n",
              "\n",
              "    [theme=dark] .colab-df-convert:hover {\n",
              "      background-color: #434B5C;\n",
              "      box-shadow: 0px 1px 3px 1px rgba(0, 0, 0, 0.15);\n",
              "      filter: drop-shadow(0px 1px 2px rgba(0, 0, 0, 0.3));\n",
              "      fill: #FFFFFF;\n",
              "    }\n",
              "  </style>\n",
              "\n",
              "      <script>\n",
              "        const buttonEl =\n",
              "          document.querySelector('#df-06bee582-35c5-489b-818c-706a0d01418d button.colab-df-convert');\n",
              "        buttonEl.style.display =\n",
              "          google.colab.kernel.accessAllowed ? 'block' : 'none';\n",
              "\n",
              "        async function convertToInteractive(key) {\n",
              "          const element = document.querySelector('#df-06bee582-35c5-489b-818c-706a0d01418d');\n",
              "          const dataTable =\n",
              "            await google.colab.kernel.invokeFunction('convertToInteractive',\n",
              "                                                     [key], {});\n",
              "          if (!dataTable) return;\n",
              "\n",
              "          const docLinkHtml = 'Like what you see? Visit the ' +\n",
              "            '<a target=\"_blank\" href=https://colab.research.google.com/notebooks/data_table.ipynb>data table notebook</a>'\n",
              "            + ' to learn more about interactive tables.';\n",
              "          element.innerHTML = '';\n",
              "          dataTable['output_type'] = 'display_data';\n",
              "          await google.colab.output.renderOutput(dataTable, element);\n",
              "          const docLink = document.createElement('div');\n",
              "          docLink.innerHTML = docLinkHtml;\n",
              "          element.appendChild(docLink);\n",
              "        }\n",
              "      </script>\n",
              "    </div>\n",
              "  </div>\n",
              "  "
            ]
          },
          "metadata": {},
          "execution_count": 3
        }
      ],
      "source": [
        "df['Datetime'] = pd.to_datetime(df['Datetime'])\n",
        "df"
      ]
    },
    {
      "cell_type": "code",
      "source": [
        "#set datetime column as index of dataframe and sort in ascending order\n",
        "df = df.set_index('Datetime').sort_index()\n",
        "df"
      ],
      "metadata": {
        "colab": {
          "base_uri": "https://localhost:8080/",
          "height": 455
        },
        "id": "Z6uMJsJasF6y",
        "outputId": "8c6838b0-8083-4882-8a81-7611c4aa442d"
      },
      "execution_count": 4,
      "outputs": [
        {
          "output_type": "execute_result",
          "data": {
            "text/plain": [
              "                     PJMW_MW\n",
              "Datetime                    \n",
              "2002-04-01 01:00:00   4374.0\n",
              "2002-04-01 02:00:00   4306.0\n",
              "2002-04-01 03:00:00   4322.0\n",
              "2002-04-01 04:00:00   4359.0\n",
              "2002-04-01 05:00:00   4436.0\n",
              "...                      ...\n",
              "2018-08-02 20:00:00   6545.0\n",
              "2018-08-02 21:00:00   6496.0\n",
              "2018-08-02 22:00:00   6325.0\n",
              "2018-08-02 23:00:00   5892.0\n",
              "2018-08-03 00:00:00   5489.0\n",
              "\n",
              "[143206 rows x 1 columns]"
            ],
            "text/html": [
              "\n",
              "  <div id=\"df-a0b4809b-942a-49b8-9bf5-0f3a70454866\">\n",
              "    <div class=\"colab-df-container\">\n",
              "      <div>\n",
              "<style scoped>\n",
              "    .dataframe tbody tr th:only-of-type {\n",
              "        vertical-align: middle;\n",
              "    }\n",
              "\n",
              "    .dataframe tbody tr th {\n",
              "        vertical-align: top;\n",
              "    }\n",
              "\n",
              "    .dataframe thead th {\n",
              "        text-align: right;\n",
              "    }\n",
              "</style>\n",
              "<table border=\"1\" class=\"dataframe\">\n",
              "  <thead>\n",
              "    <tr style=\"text-align: right;\">\n",
              "      <th></th>\n",
              "      <th>PJMW_MW</th>\n",
              "    </tr>\n",
              "    <tr>\n",
              "      <th>Datetime</th>\n",
              "      <th></th>\n",
              "    </tr>\n",
              "  </thead>\n",
              "  <tbody>\n",
              "    <tr>\n",
              "      <th>2002-04-01 01:00:00</th>\n",
              "      <td>4374.0</td>\n",
              "    </tr>\n",
              "    <tr>\n",
              "      <th>2002-04-01 02:00:00</th>\n",
              "      <td>4306.0</td>\n",
              "    </tr>\n",
              "    <tr>\n",
              "      <th>2002-04-01 03:00:00</th>\n",
              "      <td>4322.0</td>\n",
              "    </tr>\n",
              "    <tr>\n",
              "      <th>2002-04-01 04:00:00</th>\n",
              "      <td>4359.0</td>\n",
              "    </tr>\n",
              "    <tr>\n",
              "      <th>2002-04-01 05:00:00</th>\n",
              "      <td>4436.0</td>\n",
              "    </tr>\n",
              "    <tr>\n",
              "      <th>...</th>\n",
              "      <td>...</td>\n",
              "    </tr>\n",
              "    <tr>\n",
              "      <th>2018-08-02 20:00:00</th>\n",
              "      <td>6545.0</td>\n",
              "    </tr>\n",
              "    <tr>\n",
              "      <th>2018-08-02 21:00:00</th>\n",
              "      <td>6496.0</td>\n",
              "    </tr>\n",
              "    <tr>\n",
              "      <th>2018-08-02 22:00:00</th>\n",
              "      <td>6325.0</td>\n",
              "    </tr>\n",
              "    <tr>\n",
              "      <th>2018-08-02 23:00:00</th>\n",
              "      <td>5892.0</td>\n",
              "    </tr>\n",
              "    <tr>\n",
              "      <th>2018-08-03 00:00:00</th>\n",
              "      <td>5489.0</td>\n",
              "    </tr>\n",
              "  </tbody>\n",
              "</table>\n",
              "<p>143206 rows × 1 columns</p>\n",
              "</div>\n",
              "      <button class=\"colab-df-convert\" onclick=\"convertToInteractive('df-a0b4809b-942a-49b8-9bf5-0f3a70454866')\"\n",
              "              title=\"Convert this dataframe to an interactive table.\"\n",
              "              style=\"display:none;\">\n",
              "        \n",
              "  <svg xmlns=\"http://www.w3.org/2000/svg\" height=\"24px\"viewBox=\"0 0 24 24\"\n",
              "       width=\"24px\">\n",
              "    <path d=\"M0 0h24v24H0V0z\" fill=\"none\"/>\n",
              "    <path d=\"M18.56 5.44l.94 2.06.94-2.06 2.06-.94-2.06-.94-.94-2.06-.94 2.06-2.06.94zm-11 1L8.5 8.5l.94-2.06 2.06-.94-2.06-.94L8.5 2.5l-.94 2.06-2.06.94zm10 10l.94 2.06.94-2.06 2.06-.94-2.06-.94-.94-2.06-.94 2.06-2.06.94z\"/><path d=\"M17.41 7.96l-1.37-1.37c-.4-.4-.92-.59-1.43-.59-.52 0-1.04.2-1.43.59L10.3 9.45l-7.72 7.72c-.78.78-.78 2.05 0 2.83L4 21.41c.39.39.9.59 1.41.59.51 0 1.02-.2 1.41-.59l7.78-7.78 2.81-2.81c.8-.78.8-2.07 0-2.86zM5.41 20L4 18.59l7.72-7.72 1.47 1.35L5.41 20z\"/>\n",
              "  </svg>\n",
              "      </button>\n",
              "      \n",
              "  <style>\n",
              "    .colab-df-container {\n",
              "      display:flex;\n",
              "      flex-wrap:wrap;\n",
              "      gap: 12px;\n",
              "    }\n",
              "\n",
              "    .colab-df-convert {\n",
              "      background-color: #E8F0FE;\n",
              "      border: none;\n",
              "      border-radius: 50%;\n",
              "      cursor: pointer;\n",
              "      display: none;\n",
              "      fill: #1967D2;\n",
              "      height: 32px;\n",
              "      padding: 0 0 0 0;\n",
              "      width: 32px;\n",
              "    }\n",
              "\n",
              "    .colab-df-convert:hover {\n",
              "      background-color: #E2EBFA;\n",
              "      box-shadow: 0px 1px 2px rgba(60, 64, 67, 0.3), 0px 1px 3px 1px rgba(60, 64, 67, 0.15);\n",
              "      fill: #174EA6;\n",
              "    }\n",
              "\n",
              "    [theme=dark] .colab-df-convert {\n",
              "      background-color: #3B4455;\n",
              "      fill: #D2E3FC;\n",
              "    }\n",
              "\n",
              "    [theme=dark] .colab-df-convert:hover {\n",
              "      background-color: #434B5C;\n",
              "      box-shadow: 0px 1px 3px 1px rgba(0, 0, 0, 0.15);\n",
              "      filter: drop-shadow(0px 1px 2px rgba(0, 0, 0, 0.3));\n",
              "      fill: #FFFFFF;\n",
              "    }\n",
              "  </style>\n",
              "\n",
              "      <script>\n",
              "        const buttonEl =\n",
              "          document.querySelector('#df-a0b4809b-942a-49b8-9bf5-0f3a70454866 button.colab-df-convert');\n",
              "        buttonEl.style.display =\n",
              "          google.colab.kernel.accessAllowed ? 'block' : 'none';\n",
              "\n",
              "        async function convertToInteractive(key) {\n",
              "          const element = document.querySelector('#df-a0b4809b-942a-49b8-9bf5-0f3a70454866');\n",
              "          const dataTable =\n",
              "            await google.colab.kernel.invokeFunction('convertToInteractive',\n",
              "                                                     [key], {});\n",
              "          if (!dataTable) return;\n",
              "\n",
              "          const docLinkHtml = 'Like what you see? Visit the ' +\n",
              "            '<a target=\"_blank\" href=https://colab.research.google.com/notebooks/data_table.ipynb>data table notebook</a>'\n",
              "            + ' to learn more about interactive tables.';\n",
              "          element.innerHTML = '';\n",
              "          dataTable['output_type'] = 'display_data';\n",
              "          await google.colab.output.renderOutput(dataTable, element);\n",
              "          const docLink = document.createElement('div');\n",
              "          docLink.innerHTML = docLinkHtml;\n",
              "          element.appendChild(docLink);\n",
              "        }\n",
              "      </script>\n",
              "    </div>\n",
              "  </div>\n",
              "  "
            ]
          },
          "metadata": {},
          "execution_count": 4
        }
      ]
    },
    {
      "cell_type": "markdown",
      "source": [
        "**setting the target variable**"
      ],
      "metadata": {
        "id": "X4t9L2ifdOOF"
      }
    },
    {
      "cell_type": "code",
      "source": [
        "target = df['PJMW_MW'].values\n",
        "target"
      ],
      "metadata": {
        "colab": {
          "base_uri": "https://localhost:8080/"
        },
        "id": "dis4ideBsMYG",
        "outputId": "fef06e9d-c503-4f9e-8946-a1d53a4d859b"
      },
      "execution_count": 5,
      "outputs": [
        {
          "output_type": "execute_result",
          "data": {
            "text/plain": [
              "array([4374., 4306., 4322., ..., 6325., 5892., 5489.])"
            ]
          },
          "metadata": {},
          "execution_count": 5
        }
      ]
    },
    {
      "cell_type": "markdown",
      "source": [
        "**standardising the variable**"
      ],
      "metadata": {
        "id": "cuO9iw9hdZRx"
      }
    },
    {
      "cell_type": "code",
      "source": [
        "target = (target - target.mean()) / target.std()"
      ],
      "metadata": {
        "id": "y79jMpFT2Qnj"
      },
      "execution_count": 6,
      "outputs": []
    },
    {
      "cell_type": "markdown",
      "source": [
        "**defining the RNN model**"
      ],
      "metadata": {
        "id": "BFlpp6JZdUWL"
      }
    },
    {
      "cell_type": "code",
      "source": [
        "# Define RNN model\n",
        "class RNN(nn.Module):\n",
        "    def __init__(self, input_size, hidden_size, output_size):\n",
        "        super(RNN, self).__init__()\n",
        "        self.hidden_size = hidden_size\n",
        "        self.rnn = nn.RNN(input_size, hidden_size, batch_first=True)\n",
        "        self.fc = nn.Linear(hidden_size, output_size)\n",
        "\n",
        "    def forward(self, x):\n",
        "        h0 = torch.zeros(1, x.size(0), self.hidden_size)\n",
        "        out, _ = self.rnn(x, h0)\n",
        "        out = self.fc(out[:, -1, :])\n",
        "        return out\n"
      ],
      "metadata": {
        "id": "SzcQ1wlcuKYF"
      },
      "execution_count": 8,
      "outputs": []
    },
    {
      "cell_type": "code",
      "source": [
        "# Set hyperparameters\n",
        "seq_len = 100\n",
        "input_size = 1\n",
        "hidden_size = 32\n",
        "output_size = 1"
      ],
      "metadata": {
        "id": "KIQr7Aj3sWLV"
      },
      "execution_count": 9,
      "outputs": []
    },
    {
      "cell_type": "markdown",
      "source": [
        "**splitting the data**"
      ],
      "metadata": {
        "id": "akVCap1wdlAv"
      }
    },
    {
      "cell_type": "code",
      "source": [
        "def data_form(target, seq_len):\n",
        "  data = target[:(len(target) - seq_len)]\n",
        "  train, test = train_test_split(data, test_size = 0.3, random_state=24, shuffle= False)\n",
        "  val, test1 = train_test_split(test, test_size = 0.5, random_state=24, shuffle= False)\n",
        "  return train,val,test1"
      ],
      "metadata": {
        "id": "0IcRHhbDuuai"
      },
      "execution_count": 11,
      "outputs": []
    },
    {
      "cell_type": "code",
      "source": [
        "train_data, val_data, test_data = data_form(target, 100)"
      ],
      "metadata": {
        "id": "eIowSkfdvrIT"
      },
      "execution_count": 12,
      "outputs": []
    },
    {
      "cell_type": "markdown",
      "source": [
        "**creating the data with given sequence**"
      ],
      "metadata": {
        "id": "rPQqFVqZdrYQ"
      }
    },
    {
      "cell_type": "code",
      "source": [
        "def create_sequences(data):\n",
        "    X = []\n",
        "    y = []\n",
        "    for i in range(len(data) - seq_len):\n",
        "        seq = data[i:i+seq_len]\n",
        "        label = data[i+seq_len]\n",
        "        X.append(seq.reshape(-1, 1))\n",
        "        y.append(label)\n",
        "    X = np.array(X)\n",
        "    y = np.array(y)\n",
        "    return X, y"
      ],
      "metadata": {
        "id": "UanvivtEv35N"
      },
      "execution_count": 13,
      "outputs": []
    },
    {
      "cell_type": "code",
      "source": [
        "def dataset(train_data, val_data, test_data):\n",
        "  x_train, y_train = create_sequences(train_data)\n",
        "  x_train = torch.from_numpy(x_train).float()\n",
        "  y_train = torch.from_numpy(y_train.reshape(-1,1)).float()\n",
        "  x_val, y_val = create_sequences(val_data)\n",
        "  x_val = torch.from_numpy(x_val).float()\n",
        "  y_val = torch.from_numpy(y_val.reshape(-1,1)).float()\n",
        "  x_test, y_test = create_sequences(test_data)\n",
        "  x_test = torch.from_numpy(x_test).float()\n",
        "  y_test = torch.from_numpy(y_test.reshape(-1,1)).float()\n",
        "  \n",
        "  return x_train, y_train, x_val, y_val, x_test, y_test"
      ],
      "metadata": {
        "id": "k75S2ntAH_fw"
      },
      "execution_count": 15,
      "outputs": []
    },
    {
      "cell_type": "code",
      "source": [
        "x_train, y_train, x_val, y_val, x_test, y_test = dataset(train_data, val_data, test_data)"
      ],
      "metadata": {
        "id": "u85wvQKrIY5c"
      },
      "execution_count": 16,
      "outputs": []
    },
    {
      "cell_type": "code",
      "source": [
        "train_dataset = torch.utils.data.TensorDataset(x_train, y_train)\n",
        "train_loader = torch.utils.data.DataLoader(train_dataset, batch_size= 64)"
      ],
      "metadata": {
        "id": "9aOOYbe61DG2"
      },
      "execution_count": 17,
      "outputs": []
    },
    {
      "cell_type": "markdown",
      "source": [
        "**assigning the model**"
      ],
      "metadata": {
        "id": "a9XhFnTX09A4"
      }
    },
    {
      "cell_type": "code",
      "source": [
        "model1 = RNN(input_size, hidden_size, output_size) "
      ],
      "metadata": {
        "id": "K53rOFb1wxQB"
      },
      "execution_count": 18,
      "outputs": []
    },
    {
      "cell_type": "code",
      "source": [
        "learning_rate = 0.0001\n",
        "num_epochs = 10"
      ],
      "metadata": {
        "id": "Bt-Ikpcp9g2x"
      },
      "execution_count": 19,
      "outputs": []
    },
    {
      "cell_type": "code",
      "source": [
        "criterion = torch.nn.MSELoss()\n",
        "optimizer = torch.optim.Adam(model1.parameters(), lr= learning_rate)"
      ],
      "metadata": {
        "id": "cfUrXAVexla8"
      },
      "execution_count": 20,
      "outputs": []
    },
    {
      "cell_type": "markdown",
      "source": [
        "**training the model**"
      ],
      "metadata": {
        "id": "hENlUIdGeRfa"
      }
    },
    {
      "cell_type": "code",
      "source": [
        "# Train the model\n",
        "train_los_list = []\n",
        "val_los_list =[]\n",
        "for epoch in range(num_epochs):\n",
        "    for i, (X_batch, y_batch) in enumerate(train_loader):\n",
        "        optimizer.zero_grad()\n",
        "        outputs = model1(X_batch)\n",
        "        loss = criterion(outputs.squeeze(), y_batch)\n",
        "        loss.backward()\n",
        "        optimizer.step()\n",
        "    train_los_list.append(loss.item())    \n",
        "    model1.eval()\n",
        "    val_outputs = model1(x_val)\n",
        "    val_loss = criterion(val_outputs, y_val)\n",
        "    val_los_list.append(val_loss.item())\n",
        "        #if i % 10 == 0:\n",
        "    print(f\"Epoch {epoch+1}/{num_epochs}, Batch {i+1}/{len(train_loader)}, train Loss: {loss.item():.4f}, val Loss: {val_loss.item():.4f}\")"
      ],
      "metadata": {
        "colab": {
          "base_uri": "https://localhost:8080/"
        },
        "id": "rhz_rrzV2Bbz",
        "outputId": "c3a8901f-d10c-4d03-ce14-f03d36bb6116"
      },
      "execution_count": 21,
      "outputs": [
        {
          "output_type": "stream",
          "name": "stderr",
          "text": [
            "/usr/local/lib/python3.9/dist-packages/torch/nn/modules/loss.py:536: UserWarning: Using a target size (torch.Size([64, 1])) that is different to the input size (torch.Size([64])). This will likely lead to incorrect results due to broadcasting. Please ensure they have the same size.\n",
            "  return F.mse_loss(input, target, reduction=self.reduction)\n",
            "/usr/local/lib/python3.9/dist-packages/torch/nn/modules/loss.py:536: UserWarning: Using a target size (torch.Size([42, 1])) that is different to the input size (torch.Size([42])). This will likely lead to incorrect results due to broadcasting. Please ensure they have the same size.\n",
            "  return F.mse_loss(input, target, reduction=self.reduction)\n"
          ]
        },
        {
          "output_type": "stream",
          "name": "stdout",
          "text": [
            "Epoch 1/10, Batch 1564/1564, train Loss: 0.6671, val Loss: 0.5403\n",
            "Epoch 2/10, Batch 1564/1564, train Loss: 0.6608, val Loss: 0.5015\n",
            "Epoch 3/10, Batch 1564/1564, train Loss: 0.6509, val Loss: 0.4915\n",
            "Epoch 4/10, Batch 1564/1564, train Loss: 0.6406, val Loss: 0.4916\n",
            "Epoch 5/10, Batch 1564/1564, train Loss: 0.6350, val Loss: 0.4842\n",
            "Epoch 6/10, Batch 1564/1564, train Loss: 0.6359, val Loss: 0.4623\n",
            "Epoch 7/10, Batch 1564/1564, train Loss: 0.6349, val Loss: 0.4494\n",
            "Epoch 8/10, Batch 1564/1564, train Loss: 0.6339, val Loss: 0.4422\n",
            "Epoch 9/10, Batch 1564/1564, train Loss: 0.6332, val Loss: 0.4375\n",
            "Epoch 10/10, Batch 1564/1564, train Loss: 0.6327, val Loss: 0.4342\n"
          ]
        }
      ]
    },
    {
      "cell_type": "markdown",
      "source": [
        "**plotting the training and validation curve**"
      ],
      "metadata": {
        "id": "z1jJ-k65eV4m"
      }
    },
    {
      "cell_type": "code",
      "source": [
        "import matplotlib.pyplot as plt\n",
        "\n",
        "plt.plot(range(num_epochs),train_los_list, label = 'training loss')\n",
        "plt.title('training loss')"
      ],
      "metadata": {
        "colab": {
          "base_uri": "https://localhost:8080/",
          "height": 469
        },
        "id": "IG2owxvDyPPO",
        "outputId": "cb1201d2-4ea2-43c7-c9cb-8e9cbf5e255c"
      },
      "execution_count": 31,
      "outputs": [
        {
          "output_type": "execute_result",
          "data": {
            "text/plain": [
              "Text(0.5, 1.0, 'training loss')"
            ]
          },
          "metadata": {},
          "execution_count": 31
        },
        {
          "output_type": "display_data",
          "data": {
            "text/plain": [
              "<Figure size 640x480 with 1 Axes>"
            ],
            "image/png": "[encoded data removed]"
          },
          "metadata": {}
        }
      ]
    },
    {
      "cell_type": "code",
      "source": [
        "plt.plot(range(num_epochs),val_los_list)\n",
        "plt.title('validation loss')"
      ],
      "metadata": {
        "colab": {
          "base_uri": "https://localhost:8080/",
          "height": 469
        },
        "id": "0Bx2EWGZ5Lph",
        "outputId": "dfdf113c-7afe-4870-ceab-fe8839cf5319"
      },
      "execution_count": 32,
      "outputs": [
        {
          "output_type": "execute_result",
          "data": {
            "text/plain": [
              "Text(0.5, 1.0, 'validation loss')"
            ]
          },
          "metadata": {},
          "execution_count": 32
        },
        {
          "output_type": "display_data",
          "data": {
            "text/plain": [
              "<Figure size 640x480 with 1 Axes>"
            ],
            "image/png": "[encoded data removed]"
          },
          "metadata": {}
        }
      ]
    },
    {
      "cell_type": "markdown",
      "source": [
        "**test data prediction and comparing predicted values with the actual values**"
      ],
      "metadata": {
        "id": "qicz_irlfIZG"
      }
    },
    {
      "cell_type": "code",
      "source": [
        "from sklearn.preprocessing import MinMaxScaler\n",
        "scaler = MinMaxScaler() \n",
        "with torch.no_grad():\n",
        "    model1.eval()\n",
        "    #test_input = torch.from_numpy(test_data[:, :-1]).float()   x_test\n",
        "    #test_target = torch.from_numpy(test_data[:, -1]).float()   y_test\n",
        "    output = model1(x_test)\n",
        "    loss = criterion(output, y_test)\n",
        "    output = scaler.fit_transform(output)\n",
        "    predicted = scaler.inverse_transform(output)#.detach().numpy())\n",
        "    actual = scaler.inverse_transform(y_test.detach().numpy().reshape(-1, 1))\n",
        "    print(f\"Test loss: {loss.item():.4f}\")\n",
        "    plt.plot(actual, label='Actual')\n",
        "    plt.plot(predicted, label='Predicted')\n",
        "    plt.legend()\n",
        "    plt.show()"
      ],
      "metadata": {
        "colab": {
          "base_uri": "https://localhost:8080/",
          "height": 448
        },
        "id": "OpX1gpm857k5",
        "outputId": "e1316aab-fcf7-428f-bce2-9405d1394a13"
      },
      "execution_count": 24,
      "outputs": [
        {
          "output_type": "stream",
          "name": "stdout",
          "text": [
            "Test loss: 0.4566\n"
          ]
        },
        {
          "output_type": "display_data",
          "data": {
            "text/plain": [
              "<Figure size 640x480 with 1 Axes>"
            ],
            "image/png": "[encoded data removed]"
          },
          "metadata": {}
        }
      ]
    },
    {
      "cell_type": "code",
      "source": [
        "actual[2]"
      ],
      "metadata": {
        "colab": {
          "base_uri": "https://localhost:8080/"
        },
        "id": "swFmEqGI6k-E",
        "outputId": "7a28e430-e1c2-421b-8bac-f19de664b90c"
      },
      "execution_count": null,
      "outputs": [
        {
          "output_type": "execute_result",
          "data": {
            "text/plain": [
              "array([-1.9977314], dtype=float32)"
            ]
          },
          "metadata": {},
          "execution_count": 76
        }
      ]
    },
    {
      "cell_type": "code",
      "source": [
        "predicted[2]"
      ],
      "metadata": {
        "colab": {
          "base_uri": "https://localhost:8080/"
        },
        "id": "VdxLjRUG8TOE",
        "outputId": "98147480-63ae-4114-ecd7-44069a9e8bad"
      },
      "execution_count": null,
      "outputs": [
        {
          "output_type": "execute_result",
          "data": {
            "text/plain": [
              "array([-0.63439739])"
            ]
          },
          "metadata": {},
          "execution_count": 77
        }
      ]
    },
    {
      "cell_type": "markdown",
      "source": [
        "**calculating the perfomance metrics**"
      ],
      "metadata": {
        "id": "C2cpBMxRfu8x"
      }
    },
    {
      "cell_type": "code",
      "source": [
        "from sklearn.metrics import mean_absolute_error, mean_squared_error, r2_score\n",
        "\n",
        "def calculate_metrics(true, preds):\n",
        "    #true, preds = df\n",
        "    result_metrics = {'mae' : mean_absolute_error(true, preds),\n",
        "                      'rmse' : mean_squared_error(true, preds) ** 0.5,\n",
        "                      'r2' : r2_score(true, preds)}\n",
        "    \n",
        "    print(\"Mean Absolute Error:       \", result_metrics[\"mae\"])\n",
        "    print(\"Root Mean Squared Error:   \", result_metrics[\"rmse\"])\n",
        "    print(\"R^2 Score:                 \", result_metrics[\"r2\"])\n",
        "    return result_metrics"
      ],
      "metadata": {
        "id": "u5juVOoOZq7o"
      },
      "execution_count": 25,
      "outputs": []
    },
    {
      "cell_type": "code",
      "source": [
        "print(calculate_metrics(actual, predicted))"
      ],
      "metadata": {
        "colab": {
          "base_uri": "https://localhost:8080/"
        },
        "id": "q9k5rQYmZqQb",
        "outputId": "208e2b97-ee9b-4778-c095-9b44a99e78d5"
      },
      "execution_count": 26,
      "outputs": [
        {
          "output_type": "stream",
          "name": "stdout",
          "text": [
            "Mean Absolute Error:        2.169836564704385\n",
            "Root Mean Squared Error:    2.6202700018605825\n",
            "R^2 Score:                  0.10862865102629382\n",
            "{'mae': 2.169836564704385, 'rmse': 2.6202700018605825, 'r2': 0.10862865102629382}\n"
          ]
        }
      ]
    },
    {
      "cell_type": "markdown",
      "source": [
        "maybe underfit"
      ],
      "metadata": {
        "id": "xaYLudIc8msS"
      }
    }
  ]
}