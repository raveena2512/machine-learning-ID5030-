{
  "cells": [
    {
      "cell_type": "markdown",
      "source": [
        "##**Question 1: Backpropagation for XOR Gate**"
      ],
      "metadata": {
        "id": "Vimbs0viky0E"
      }
    },
    {
      "cell_type": "code",
      "execution_count": 1,
      "metadata": {
        "id": "Tby1-xLTciW3"
      },
      "outputs": [],
      "source": [
        "import numpy as np\n",
        "import pandas as pd\n",
        "import matplotlib.pyplot as plt"
      ]
    },
    {
      "cell_type": "markdown",
      "source": [
        "##Defining the functions for forward and backpropagation"
      ],
      "metadata": {
        "id": "aYLe1PyOyuEm"
      }
    },
    {
      "cell_type": "code",
      "execution_count": 2,
      "metadata": {
        "id": "X3fhYR9iciW6"
      },
      "outputs": [],
      "source": [
        "from sklearn.metrics import accuracy_score as ACC\n",
        "\n",
        "def sigmoid(z):\n",
        "    return 1/(1 + np.exp(-z))\n",
        "\n",
        "def sigm_der(z):\n",
        "    one = np.ones((z.shape))\n",
        "    return z*(one-z)\n",
        "\n",
        "def ReLu(z):\n",
        "  return np.maximum(0, z)\n",
        "\n",
        "def forward(x, w1, w2, B1, B2):\n",
        "  z2 = x.dot(w1) + B1\n",
        "  a2 = sigmoid(z2)\n",
        "  #a2 = ReLu(z2)\n",
        "  z3 = a2.dot(w2) + B2\n",
        "  a3 = sigmoid(z3)\n",
        "  #a3 = ReLu(z3)\n",
        "\n",
        "  return z2, a2, z3, a3\n",
        "\n",
        "def weight_init(x, y, n_h):  # n_h is the number of neurons in the hidden layer\n",
        "  m, n = x.shape\n",
        "  w1 = np.random.randn(n, n_h)\n",
        "  w2 = np.random.randn(n_h, 1)\n",
        "  B1 = -2 #np.random.randn(1, n_h)\n",
        "  B2 = -2 #np.random.randn(1)\n",
        "\n",
        "  return w1, w2, B1, B2\n",
        "\n",
        "def loss(y_hat, y_true):\n",
        "  return sum(-y_true*np.log(y_hat) - (1-y_true)*np.log(1-y_hat))\n",
        "  #return -y_true.T.dot(np.log(y_hat)) - (1-y_true).T.dot(np.log(1-y_hat))\n",
        "\n",
        "def backward2(x, y, w1, w2, alpha):\n",
        "  z2, a2, a3, a3 = forward(x, w1, w2)\n",
        "  a32 = zeroones(a3)\n",
        "  delta_3 = a32 -y\n",
        "  dw2 = a2.T.dot(delta_3)  \n",
        "  delta_2 = np.multiply(((w2.dot(delta_3.T))).T, np.multiply(a2, 1-a2)) \n",
        "  dw1 = x.T.dot(delta_2)\n",
        "  dz3 = sigm_der(z3)\n",
        "  dz2 = sigm_der(z2)\n",
        "  dB2 = dz3\n",
        "  dB1 = dz2\n",
        "\n",
        "\n",
        "def backward(x, y, w1, w2, alpha, B1, B2):\n",
        "  z2, a2, z3, a3 = forward(x, w1, w2, B1, B2)\n",
        "  delta_3 = a3 -y\n",
        "  dw2 = a2.T.dot(delta_3)  \n",
        "  delta_2 = np.multiply(((w2.dot(delta_3.T))).T, np.multiply(a2, 1-a2)) \n",
        "  dw1 = x.T.dot(delta_2)\n",
        "  w1 = w1 - alpha*dw1\n",
        "  w2 = w2 - alpha*dw2\n",
        "\n",
        "  dB2 = np.sum(delta_3, axis = 0, keepdims = True)\n",
        "  dB1 = np.sum(delta_2, axis = 0, keepdims = True)\n",
        "\n",
        "  B1 = B1 - alpha*dB1\n",
        "  B2 = B2 - alpha*dB2\n",
        "  return w1, w2 \n",
        "\n",
        "def zeroones(y_pred):  \n",
        "  y_pred[y_pred >= 0.5] = 1\n",
        "  y_pred[y_pred < 0.5] = 0\n",
        "  return y_pred"
      ]
    },
    {
      "cell_type": "markdown",
      "source": [
        "Defining the input and output arrays \n",
        "\n",
        "** the hidden layer has Two neurons**\n",
        "\n",
        "\n",
        "\n"
      ],
      "metadata": {
        "id": "LOmcix3xy9VP"
      }
    },
    {
      "cell_type": "code",
      "source": [
        "X = np.array([[0, 0], [0, 1], [1, 0], [1, 1]], dtype = 'float').reshape(4, 2)\n",
        "Y = np.array([0, 1, 1, 0], dtype = 'float').reshape(4,1)\n",
        "\n",
        "\n",
        "w1, w2, B1, B2 = weight_init(X, Y, 2)"
      ],
      "metadata": {
        "id": "lwLNPCQqkIr-"
      },
      "execution_count": 3,
      "outputs": []
    },
    {
      "cell_type": "markdown",
      "metadata": {
        "id": "q_GqHTOUciW8"
      },
      "source": [
        "Model Training"
      ]
    },
    {
      "cell_type": "code",
      "execution_count": 4,
      "metadata": {
        "colab": {
          "base_uri": "https://localhost:8080/",
          "height": 491
        },
        "id": "ABbGc6L6ciW_",
        "outputId": "f80fe69b-9458-4cd5-8f16-adf3d13b05ac"
      },
      "outputs": [
        {
          "output_type": "stream",
          "name": "stdout",
          "text": [
            "The predicted output is:\n",
            "[[0.33071705]\n",
            " [0.95775513]\n",
            " [0.95740454]\n",
            " [0.13300978]]\n",
            "\n",
            "Çonverting the y_prediction into zeros and ones:\n",
            "[[0.]\n",
            " [1.]\n",
            " [1.]\n",
            " [0.]]\n",
            "\n",
            "The accuracy of the model is 1.0\n"
          ]
        },
        {
          "output_type": "display_data",
          "data": {
            "text/plain": [
              "<Figure size 432x288 with 1 Axes>"
            ],
            "image/png": "[encoded data removed]"
          },
          "metadata": {
            "needs_background": "light"
          }
        }
      ],
      "source": [
        "err =[]\n",
        "for i in range(25000):\n",
        "    z2, a2, z3, a3 = forward(X, w1, w2, B1, B2)\n",
        "    #print(a2.shape)\n",
        "    #print(a3.shape)\n",
        "    #y_hat = zeroones(a3)\n",
        "    err.append(loss(a3, Y))\n",
        "\n",
        "    w1, w2 = backward(X, Y, w1, w2, 0.01, B1, B2)\n",
        "    #print(dw2.shape)\n",
        "    #print(w2.shape)\n",
        "    #print([w1, w2])\n",
        "\n",
        "plt.figure()\n",
        "plt.plot(err)\n",
        "print (f'The predicted output is:')\n",
        "print(a3)\n",
        "# Accuracy\n",
        "print('\\nÇonverting the y_prediction into zeros and ones:')\n",
        "y_predicted = zeroones(a3)\n",
        "print(y_predicted)\n",
        "print (f'\\nThe accuracy of the model is {ACC(y_predicted, Y)}')"
      ]
    },
    {
      "cell_type": "markdown",
      "source": [
        "**The model successfully trained with an accuracy of 100 %.**"
      ],
      "metadata": {
        "id": "L90HejD40x9I"
      }
    },
    {
      "cell_type": "markdown",
      "source": [
        "##**Question 2:**\n",
        "\n",
        "##**2a: Part1: Back Propagation**\n",
        "\n"
      ],
      "metadata": {
        "id": "Jawr2ztPks29"
      }
    },
    {
      "cell_type": "code",
      "execution_count": null,
      "metadata": {
        "id": "Pu2undKmciXD",
        "colab": {
          "base_uri": "https://localhost:8080/",
          "height": 225
        },
        "outputId": "5758debd-d696-4a17-bc5c-c6d731849434"
      },
      "outputs": [
        {
          "output_type": "execute_result",
          "data": {
            "text/plain": [
              "   Cement (component 1)(kg in a m^3 mixture)  \\\n",
              "0                                      540.0   \n",
              "1                                      540.0   \n",
              "\n",
              "   Blast Furnace Slag (component 2)(kg in a m^3 mixture)  \\\n",
              "0                                                0.0       \n",
              "1                                                0.0       \n",
              "\n",
              "   Fly Ash (component 3)(kg in a m^3 mixture)  \\\n",
              "0                                         0.0   \n",
              "1                                         0.0   \n",
              "\n",
              "   Water  (component 4)(kg in a m^3 mixture)  \\\n",
              "0                                      162.0   \n",
              "1                                      162.0   \n",
              "\n",
              "   Superplasticizer (component 5)(kg in a m^3 mixture)  \\\n",
              "0                                                2.5     \n",
              "1                                                2.5     \n",
              "\n",
              "   Coarse Aggregate  (component 6)(kg in a m^3 mixture)  \\\n",
              "0                                             1040.0      \n",
              "1                                             1055.0      \n",
              "\n",
              "   Fine Aggregate (component 7)(kg in a m^3 mixture)  Age (day)  \\\n",
              "0                                              676.0         28   \n",
              "1                                              676.0         28   \n",
              "\n",
              "   Concrete compressive strength(MPa, megapascals)   \n",
              "0                                         79.986111  \n",
              "1                                         61.887366  "
            ],
            "text/html": [
              "\n",
              "  <div id=\"df-7d4f50dc-9f1c-49cb-932b-9fb6e5ddfaf7\">\n",
              "    <div class=\"colab-df-container\">\n",
              "      <div>\n",
              "<style scoped>\n",
              "    .dataframe tbody tr th:only-of-type {\n",
              "        vertical-align: middle;\n",
              "    }\n",
              "\n",
              "    .dataframe tbody tr th {\n",
              "        vertical-align: top;\n",
              "    }\n",
              "\n",
              "    .dataframe thead th {\n",
              "        text-align: right;\n",
              "    }\n",
              "</style>\n",
              "<table border=\"1\" class=\"dataframe\">\n",
              "  <thead>\n",
              "    <tr style=\"text-align: right;\">\n",
              "      <th></th>\n",
              "      <th>Cement (component 1)(kg in a m^3 mixture)</th>\n",
              "      <th>Blast Furnace Slag (component 2)(kg in a m^3 mixture)</th>\n",
              "      <th>Fly Ash (component 3)(kg in a m^3 mixture)</th>\n",
              "      <th>Water  (component 4)(kg in a m^3 mixture)</th>\n",
              "      <th>Superplasticizer (component 5)(kg in a m^3 mixture)</th>\n",
              "      <th>Coarse Aggregate  (component 6)(kg in a m^3 mixture)</th>\n",
              "      <th>Fine Aggregate (component 7)(kg in a m^3 mixture)</th>\n",
              "      <th>Age (day)</th>\n",
              "      <th>Concrete compressive strength(MPa, megapascals)</th>\n",
              "    </tr>\n",
              "  </thead>\n",
              "  <tbody>\n",
              "    <tr>\n",
              "      <th>0</th>\n",
              "      <td>540.0</td>\n",
              "      <td>0.0</td>\n",
              "      <td>0.0</td>\n",
              "      <td>162.0</td>\n",
              "      <td>2.5</td>\n",
              "      <td>1040.0</td>\n",
              "      <td>676.0</td>\n",
              "      <td>28</td>\n",
              "      <td>79.986111</td>\n",
              "    </tr>\n",
              "    <tr>\n",
              "      <th>1</th>\n",
              "      <td>540.0</td>\n",
              "      <td>0.0</td>\n",
              "      <td>0.0</td>\n",
              "      <td>162.0</td>\n",
              "      <td>2.5</td>\n",
              "      <td>1055.0</td>\n",
              "      <td>676.0</td>\n",
              "      <td>28</td>\n",
              "      <td>61.887366</td>\n",
              "    </tr>\n",
              "  </tbody>\n",
              "</table>\n",
              "</div>\n",
              "      <button class=\"colab-df-convert\" onclick=\"convertToInteractive('df-7d4f50dc-9f1c-49cb-932b-9fb6e5ddfaf7')\"\n",
              "              title=\"Convert this dataframe to an interactive table.\"\n",
              "              style=\"display:none;\">\n",
              "        \n",
              "  <svg xmlns=\"http://www.w3.org/2000/svg\" height=\"24px\"viewBox=\"0 0 24 24\"\n",
              "       width=\"24px\">\n",
              "    <path d=\"M0 0h24v24H0V0z\" fill=\"none\"/>\n",
              "    <path d=\"M18.56 5.44l.94 2.06.94-2.06 2.06-.94-2.06-.94-.94-2.06-.94 2.06-2.06.94zm-11 1L8.5 8.5l.94-2.06 2.06-.94-2.06-.94L8.5 2.5l-.94 2.06-2.06.94zm10 10l.94 2.06.94-2.06 2.06-.94-2.06-.94-.94-2.06-.94 2.06-2.06.94z\"/><path d=\"M17.41 7.96l-1.37-1.37c-.4-.4-.92-.59-1.43-.59-.52 0-1.04.2-1.43.59L10.3 9.45l-7.72 7.72c-.78.78-.78 2.05 0 2.83L4 21.41c.39.39.9.59 1.41.59.51 0 1.02-.2 1.41-.59l7.78-7.78 2.81-2.81c.8-.78.8-2.07 0-2.86zM5.41 20L4 18.59l7.72-7.72 1.47 1.35L5.41 20z\"/>\n",
              "  </svg>\n",
              "      </button>\n",
              "      \n",
              "  <style>\n",
              "    .colab-df-container {\n",
              "      display:flex;\n",
              "      flex-wrap:wrap;\n",
              "      gap: 12px;\n",
              "    }\n",
              "\n",
              "    .colab-df-convert {\n",
              "      background-color: #E8F0FE;\n",
              "      border: none;\n",
              "      border-radius: 50%;\n",
              "      cursor: pointer;\n",
              "      display: none;\n",
              "      fill: #1967D2;\n",
              "      height: 32px;\n",
              "      padding: 0 0 0 0;\n",
              "      width: 32px;\n",
              "    }\n",
              "\n",
              "    .colab-df-convert:hover {\n",
              "      background-color: #E2EBFA;\n",
              "      box-shadow: 0px 1px 2px rgba(60, 64, 67, 0.3), 0px 1px 3px 1px rgba(60, 64, 67, 0.15);\n",
              "      fill: #174EA6;\n",
              "    }\n",
              "\n",
              "    [theme=dark] .colab-df-convert {\n",
              "      background-color: #3B4455;\n",
              "      fill: #D2E3FC;\n",
              "    }\n",
              "\n",
              "    [theme=dark] .colab-df-convert:hover {\n",
              "      background-color: #434B5C;\n",
              "      box-shadow: 0px 1px 3px 1px rgba(0, 0, 0, 0.15);\n",
              "      filter: drop-shadow(0px 1px 2px rgba(0, 0, 0, 0.3));\n",
              "      fill: #FFFFFF;\n",
              "    }\n",
              "  </style>\n",
              "\n",
              "      <script>\n",
              "        const buttonEl =\n",
              "          document.querySelector('#df-7d4f50dc-9f1c-49cb-932b-9fb6e5ddfaf7 button.colab-df-convert');\n",
              "        buttonEl.style.display =\n",
              "          google.colab.kernel.accessAllowed ? 'block' : 'none';\n",
              "\n",
              "        async function convertToInteractive(key) {\n",
              "          const element = document.querySelector('#df-7d4f50dc-9f1c-49cb-932b-9fb6e5ddfaf7');\n",
              "          const dataTable =\n",
              "            await google.colab.kernel.invokeFunction('convertToInteractive',\n",
              "                                                     [key], {});\n",
              "          if (!dataTable) return;\n",
              "\n",
              "          const docLinkHtml = 'Like what you see? Visit the ' +\n",
              "            '<a target=\"_blank\" href=https://colab.research.google.com/notebooks/data_table.ipynb>data table notebook</a>'\n",
              "            + ' to learn more about interactive tables.';\n",
              "          element.innerHTML = '';\n",
              "          dataTable['output_type'] = 'display_data';\n",
              "          await google.colab.output.renderOutput(dataTable, element);\n",
              "          const docLink = document.createElement('div');\n",
              "          docLink.innerHTML = docLinkHtml;\n",
              "          element.appendChild(docLink);\n",
              "        }\n",
              "      </script>\n",
              "    </div>\n",
              "  </div>\n",
              "  "
            ]
          },
          "metadata": {},
          "execution_count": 25
        }
      ],
      "source": [
        "from sklearn.model_selection import train_test_split\n",
        "from sklearn.linear_model import LinearRegression\n",
        "from sklearn.linear_model import LogisticRegression\n",
        "from sklearn.metrics import mean_squared_error as MSE\n",
        "from sklearn.metrics import r2_score as R2\n",
        "from sklearn.metrics import accuracy_score as ACC\n",
        "\n",
        "\n",
        "\n",
        "df = pd.read_excel(\"Concrete_Data.xls\")\n",
        "df.head(2)"
      ]
    },
    {
      "cell_type": "markdown",
      "source": [
        "**The dataset is normalized here for better results.**"
      ],
      "metadata": {
        "id": "6LZiSNoy1Z4w"
      }
    },
    {
      "cell_type": "code",
      "source": [
        "dataset = df\n",
        "normalized_dataset = dataset.apply(lambda val: (val -val.min())/(val.max() - val.min()), axis = 0)          \n",
        "#normalized_dataset = dataset.apply(lambda rec: (rec-rec.mean())/rec.std(), axis = 0)\n",
        "x_n = normalized_dataset.iloc[:,:-1].values\n",
        "y_n = normalized_dataset.iloc[:,-1].values\n",
        "normalized_dataset.head(2)\n",
        "#The data is then divided into 60 - 40 train, test ratio.\n",
        "x_train_n, x_test_n, y_train_n, y_test_n = train_test_split(x_n, y_n, test_size=0.4, random_state=4, stratify = None)\n",
        "y_train_n = y_train_n.reshape(618, 1)\n",
        "y_test_n = y_test_n.reshape(412, 1)"
      ],
      "metadata": {
        "id": "fhO5CMoiwVaN"
      },
      "execution_count": null,
      "outputs": []
    },
    {
      "cell_type": "code",
      "source": [
        "def sigmoid(z):\n",
        "    return 1/(1 + np.exp(-z))\n",
        "\n",
        "def sigm_der(z):\n",
        "    one = np.ones((z.shape))\n",
        "    return z*(one-z)\n",
        "\n",
        "def ReLu(z):\n",
        "  return np.maximum(0, z)\n",
        "\n",
        "def forward(x, w1, w2, B1, B2):\n",
        "  z2 = x.dot(w1) + B1\n",
        "  a2 = sigmoid(z2)\n",
        "  #a2 = ReLu(z2)\n",
        "  z3 = a2.dot(w2) + B2\n",
        "  a3 = sigmoid(z3)\n",
        "  #a3 = ReLu(z3)\n",
        "\n",
        "  return z2, a2, z3, a3\n",
        "\n",
        "def weight_init(x, y, n_h):  # n_h is the number of neurons in the hidden layer\n",
        "  m, n = x.shape\n",
        "  w1 = np.random.randn(n, n_h)\n",
        "  w2 = np.random.randn(n_h, 1)\n",
        "  B1 = np.random.randn(n_h)\n",
        "  B2 = np.random.randn(1)\n",
        "\n",
        "  return w1, w2, B1, B2\n",
        "\n",
        "def loss(y_hat, y_true):\n",
        "  return sum(-y_true*np.log(y_hat) - (1-y_true)*np.log(1-y_hat))\n",
        "\n",
        "\n",
        "\n",
        "def backward(x, y, w1, w2, alpha, B1, B2):\n",
        "  z2, a2, z3, a3 = forward(x, w1, w2, B1, B2)\n",
        "  delta_3 = a3 -y\n",
        "  dw2 = a2.T.dot(delta_3)  \n",
        "  delta_2 = np.multiply(((w2.dot(delta_3.T))).T, np.multiply(a2, 1-a2)) \n",
        "  dw1 = x.T.dot(delta_2)\n",
        "  w1 = w1 - alpha*dw1\n",
        "  w2 = w2 - alpha*dw2\n",
        "\n",
        "  dB2 = delta_3\n",
        "  dB1 = delta_2\n",
        "\n",
        "  B1 = B1 - alpha*dB1\n",
        "  B2 = B2 - alpha*dB2\n",
        "  return w1, w2 \n",
        "\n",
        "def zeroones(y_pred):\n",
        "  y_pred[y_pred > 0.5] = 1\n",
        "  y_pred[y_pred < 0.5] = 0\n",
        "  return y_pred\n",
        "\n",
        "def prediction_cls(x_test, y_test, w1_final, w2_final, b1_final, b2_final):\n",
        "  z2f, a2f, a3f, a3f = forward(x_test, w1_final, w2_final, b1_final, b2_final)\n",
        "  acc = ACC(a3f, y_test)\n",
        "  return acc\n",
        "\n",
        "def prediction_reg(x_test, y_test, w1_final, w2_final, b1_final, b2_final):\n",
        "  z2f, a2f, a3f, a3f = forward(x_test, w1_final, w2_final, b1_final, b2_final)\n",
        "  r2s = R2(a3f, y_test)\n",
        "  return r2s\n"
      ],
      "metadata": {
        "id": "0MHl7CGDpDrE"
      },
      "execution_count": null,
      "outputs": []
    },
    {
      "cell_type": "markdown",
      "source": [
        "Model is trained here. (**4 neorons are used in the hidden layer**)"
      ],
      "metadata": {
        "id": "o-V2OjLo2HQQ"
      }
    },
    {
      "cell_type": "code",
      "source": [
        "err =[]\n",
        "w1, w2, B1, B2 = weight_init(x_train_n, y_train_n, 4)\n",
        "for i in range(20000):\n",
        "    z2, a2, z3, a3 = forward(x_train_n, w1, w2, B1, B2)\n",
        "\n",
        "    err.append(loss(a3, y_train_n))\n",
        "\n",
        "    w1, w2 = backward(x_train_n, y_train_n, w1, w2, 0.001, B1, B2)\n"
      ],
      "metadata": {
        "id": "JtmHUV9xkiB4"
      },
      "execution_count": null,
      "outputs": []
    },
    {
      "cell_type": "code",
      "source": [
        "# Accuracy\n",
        "print (f'Train data R2 score is {R2(a3,y_train_n)}')\n",
        "plt.figure\n",
        "plt.plot(err)\n",
        "\n",
        "print(f'Test data R2 score is {prediction_reg(x_test_n, y_test_n, w1, w2, B1, B2)}')"
      ],
      "metadata": {
        "colab": {
          "base_uri": "https://localhost:8080/",
          "height": 301
        },
        "id": "2-REefy1qhwt",
        "outputId": "ab3b61af-3d92-4fbc-a711-0d340b748762"
      },
      "execution_count": null,
      "outputs": [
        {
          "output_type": "stream",
          "name": "stdout",
          "text": [
            "Train data R2 score is 0.7867230072876967\n",
            "Test data R2 score is 0.7720671762307129\n"
          ]
        },
        {
          "output_type": "display_data",
          "data": {
            "text/plain": [
              "<Figure size 432x288 with 1 Axes>"
            ],
            "image/png": "[encoded data removed]"
          },
          "metadata": {
            "needs_background": "light"
          }
        }
      ]
    },
    {
      "cell_type": "markdown",
      "source": [
        "The from scratch implementation has\n",
        "  \n",
        "  4 neorons were included in the hidden layer\n",
        "  \n",
        "  R2 score  = 78.3 %"
      ],
      "metadata": {
        "id": "hOZda_xA2YSg"
      }
    },
    {
      "cell_type": "markdown",
      "source": [
        "**2a: Part2: Pytorch Implementation**"
      ],
      "metadata": {
        "id": "OwpnJomyYPbP"
      }
    },
    {
      "cell_type": "code",
      "source": [
        "import torch\n",
        "import math\n",
        "import torch.nn as nn\n",
        "import pandas as pd\n",
        "from sklearn.model_selection import train_test_split\n",
        "from sklearn.metrics import r2_score as R2\n",
        "from sklearn.metrics import accuracy_score as ACC\n"
      ],
      "metadata": {
        "id": "FttyNBmjYOlY"
      },
      "execution_count": 5,
      "outputs": []
    },
    {
      "cell_type": "code",
      "source": [
        "n_input, n_hidden, n_out, batch_size, learning_rate = 8, 4, 1, 1, 0.01"
      ],
      "metadata": {
        "id": "Jg2iF2QaYY5v"
      },
      "execution_count": 8,
      "outputs": []
    },
    {
      "cell_type": "code",
      "source": [
        "df = pd.read_excel(\"Concrete_Data.xls\")\n",
        "df.head(2)"
      ],
      "metadata": {
        "colab": {
          "base_uri": "https://localhost:8080/",
          "height": 191
        },
        "id": "UaTKjtZRYrFo",
        "outputId": "766dbc95-e615-4dec-c9ad-2fbc4053e6ed"
      },
      "execution_count": 7,
      "outputs": [
        {
          "output_type": "execute_result",
          "data": {
            "text/plain": [
              "   Cement (component 1)(kg in a m^3 mixture)  \\\n",
              "0                                      540.0   \n",
              "1                                      540.0   \n",
              "\n",
              "   Blast Furnace Slag (component 2)(kg in a m^3 mixture)  \\\n",
              "0                                                0.0       \n",
              "1                                                0.0       \n",
              "\n",
              "   Fly Ash (component 3)(kg in a m^3 mixture)  \\\n",
              "0                                         0.0   \n",
              "1                                         0.0   \n",
              "\n",
              "   Water  (component 4)(kg in a m^3 mixture)  \\\n",
              "0                                      162.0   \n",
              "1                                      162.0   \n",
              "\n",
              "   Superplasticizer (component 5)(kg in a m^3 mixture)  \\\n",
              "0                                                2.5     \n",
              "1                                                2.5     \n",
              "\n",
              "   Coarse Aggregate  (component 6)(kg in a m^3 mixture)  \\\n",
              "0                                             1040.0      \n",
              "1                                             1055.0      \n",
              "\n",
              "   Fine Aggregate (component 7)(kg in a m^3 mixture)  Age (day)  \\\n",
              "0                                              676.0         28   \n",
              "1                                              676.0         28   \n",
              "\n",
              "   Concrete compressive strength(MPa, megapascals)   \n",
              "0                                         79.986111  \n",
              "1                                         61.887366  "
            ],
            "text/html": [
              "\n",
              "  <div id=\"df-236ed74e-0030-4909-a913-8c8bbacca11f\">\n",
              "    <div class=\"colab-df-container\">\n",
              "      <div>\n",
              "<style scoped>\n",
              "    .dataframe tbody tr th:only-of-type {\n",
              "        vertical-align: middle;\n",
              "    }\n",
              "\n",
              "    .dataframe tbody tr th {\n",
              "        vertical-align: top;\n",
              "    }\n",
              "\n",
              "    .dataframe thead th {\n",
              "        text-align: right;\n",
              "    }\n",
              "</style>\n",
              "<table border=\"1\" class=\"dataframe\">\n",
              "  <thead>\n",
              "    <tr style=\"text-align: right;\">\n",
              "      <th></th>\n",
              "      <th>Cement (component 1)(kg in a m^3 mixture)</th>\n",
              "      <th>Blast Furnace Slag (component 2)(kg in a m^3 mixture)</th>\n",
              "      <th>Fly Ash (component 3)(kg in a m^3 mixture)</th>\n",
              "      <th>Water  (component 4)(kg in a m^3 mixture)</th>\n",
              "      <th>Superplasticizer (component 5)(kg in a m^3 mixture)</th>\n",
              "      <th>Coarse Aggregate  (component 6)(kg in a m^3 mixture)</th>\n",
              "      <th>Fine Aggregate (component 7)(kg in a m^3 mixture)</th>\n",
              "      <th>Age (day)</th>\n",
              "      <th>Concrete compressive strength(MPa, megapascals)</th>\n",
              "    </tr>\n",
              "  </thead>\n",
              "  <tbody>\n",
              "    <tr>\n",
              "      <th>0</th>\n",
              "      <td>540.0</td>\n",
              "      <td>0.0</td>\n",
              "      <td>0.0</td>\n",
              "      <td>162.0</td>\n",
              "      <td>2.5</td>\n",
              "      <td>1040.0</td>\n",
              "      <td>676.0</td>\n",
              "      <td>28</td>\n",
              "      <td>79.986111</td>\n",
              "    </tr>\n",
              "    <tr>\n",
              "      <th>1</th>\n",
              "      <td>540.0</td>\n",
              "      <td>0.0</td>\n",
              "      <td>0.0</td>\n",
              "      <td>162.0</td>\n",
              "      <td>2.5</td>\n",
              "      <td>1055.0</td>\n",
              "      <td>676.0</td>\n",
              "      <td>28</td>\n",
              "      <td>61.887366</td>\n",
              "    </tr>\n",
              "  </tbody>\n",
              "</table>\n",
              "</div>\n",
              "      <button class=\"colab-df-convert\" onclick=\"convertToInteractive('df-236ed74e-0030-4909-a913-8c8bbacca11f')\"\n",
              "              title=\"Convert this dataframe to an interactive table.\"\n",
              "              style=\"display:none;\">\n",
              "        \n",
              "  <svg xmlns=\"http://www.w3.org/2000/svg\" height=\"24px\"viewBox=\"0 0 24 24\"\n",
              "       width=\"24px\">\n",
              "    <path d=\"M0 0h24v24H0V0z\" fill=\"none\"/>\n",
              "    <path d=\"M18.56 5.44l.94 2.06.94-2.06 2.06-.94-2.06-.94-.94-2.06-.94 2.06-2.06.94zm-11 1L8.5 8.5l.94-2.06 2.06-.94-2.06-.94L8.5 2.5l-.94 2.06-2.06.94zm10 10l.94 2.06.94-2.06 2.06-.94-2.06-.94-.94-2.06-.94 2.06-2.06.94z\"/><path d=\"M17.41 7.96l-1.37-1.37c-.4-.4-.92-.59-1.43-.59-.52 0-1.04.2-1.43.59L10.3 9.45l-7.72 7.72c-.78.78-.78 2.05 0 2.83L4 21.41c.39.39.9.59 1.41.59.51 0 1.02-.2 1.41-.59l7.78-7.78 2.81-2.81c.8-.78.8-2.07 0-2.86zM5.41 20L4 18.59l7.72-7.72 1.47 1.35L5.41 20z\"/>\n",
              "  </svg>\n",
              "      </button>\n",
              "      \n",
              "  <style>\n",
              "    .colab-df-container {\n",
              "      display:flex;\n",
              "      flex-wrap:wrap;\n",
              "      gap: 12px;\n",
              "    }\n",
              "\n",
              "    .colab-df-convert {\n",
              "      background-color: #E8F0FE;\n",
              "      border: none;\n",
              "      border-radius: 50%;\n",
              "      cursor: pointer;\n",
              "      display: none;\n",
              "      fill: #1967D2;\n",
              "      height: 32px;\n",
              "      padding: 0 0 0 0;\n",
              "      width: 32px;\n",
              "    }\n",
              "\n",
              "    .colab-df-convert:hover {\n",
              "      background-color: #E2EBFA;\n",
              "      box-shadow: 0px 1px 2px rgba(60, 64, 67, 0.3), 0px 1px 3px 1px rgba(60, 64, 67, 0.15);\n",
              "      fill: #174EA6;\n",
              "    }\n",
              "\n",
              "    [theme=dark] .colab-df-convert {\n",
              "      background-color: #3B4455;\n",
              "      fill: #D2E3FC;\n",
              "    }\n",
              "\n",
              "    [theme=dark] .colab-df-convert:hover {\n",
              "      background-color: #434B5C;\n",
              "      box-shadow: 0px 1px 3px 1px rgba(0, 0, 0, 0.15);\n",
              "      filter: drop-shadow(0px 1px 2px rgba(0, 0, 0, 0.3));\n",
              "      fill: #FFFFFF;\n",
              "    }\n",
              "  </style>\n",
              "\n",
              "      <script>\n",
              "        const buttonEl =\n",
              "          document.querySelector('#df-236ed74e-0030-4909-a913-8c8bbacca11f button.colab-df-convert');\n",
              "        buttonEl.style.display =\n",
              "          google.colab.kernel.accessAllowed ? 'block' : 'none';\n",
              "\n",
              "        async function convertToInteractive(key) {\n",
              "          const element = document.querySelector('#df-236ed74e-0030-4909-a913-8c8bbacca11f');\n",
              "          const dataTable =\n",
              "            await google.colab.kernel.invokeFunction('convertToInteractive',\n",
              "                                                     [key], {});\n",
              "          if (!dataTable) return;\n",
              "\n",
              "          const docLinkHtml = 'Like what you see? Visit the ' +\n",
              "            '<a target=\"_blank\" href=https://colab.research.google.com/notebooks/data_table.ipynb>data table notebook</a>'\n",
              "            + ' to learn more about interactive tables.';\n",
              "          element.innerHTML = '';\n",
              "          dataTable['output_type'] = 'display_data';\n",
              "          await google.colab.output.renderOutput(dataTable, element);\n",
              "          const docLink = document.createElement('div');\n",
              "          docLink.innerHTML = docLinkHtml;\n",
              "          element.appendChild(docLink);\n",
              "        }\n",
              "      </script>\n",
              "    </div>\n",
              "  </div>\n",
              "  "
            ]
          },
          "metadata": {},
          "execution_count": 7
        }
      ]
    },
    {
      "cell_type": "code",
      "source": [
        "dataset = df\n",
        "normalized_dataset = dataset.apply(lambda val: (val -val.min())/(val.max() - val.min()), axis = 0)          \n",
        "\n",
        "x_n = normalized_dataset.iloc[:,:-1].values\n",
        "y_n = normalized_dataset.iloc[:,-1].values"
      ],
      "metadata": {
        "id": "AqkCdwsnZ96u"
      },
      "execution_count": 9,
      "outputs": []
    },
    {
      "cell_type": "code",
      "source": [
        "\n",
        "x_train_n, x_test_n, y_train_n, y_test_n = train_test_split(x_n, y_n, test_size=0.4, random_state=4, stratify = None)\n",
        "m, n = x_train_n.shape\n",
        "\n",
        "y_train_n = y_train_n.reshape(m, 1 )\n",
        "\n",
        "x_train_nt = torch.tensor(x_train_n, dtype = torch.float32)\n",
        "y_train_nt = torch.tensor(y_train_n, dtype = torch.float32)\n",
        "\n"
      ],
      "metadata": {
        "id": "4kYCg3Qxahhe"
      },
      "execution_count": 10,
      "outputs": []
    },
    {
      "cell_type": "code",
      "source": [
        "model = nn.Sequential(nn.Linear(n_input, n_hidden),\n",
        "                      nn.Sigmoid(),\n",
        "                      nn.Linear(n_hidden, n_out),\n",
        "                      nn.Sigmoid())\n",
        "print(model)"
      ],
      "metadata": {
        "colab": {
          "base_uri": "https://localhost:8080/"
        },
        "id": "gUpfRjimYfrA",
        "outputId": "12440979-5cd4-460c-aadb-1fda117357cb"
      },
      "execution_count": 11,
      "outputs": [
        {
          "output_type": "stream",
          "name": "stdout",
          "text": [
            "Sequential(\n",
            "  (0): Linear(in_features=8, out_features=4, bias=True)\n",
            "  (1): Sigmoid()\n",
            "  (2): Linear(in_features=4, out_features=1, bias=True)\n",
            "  (3): Sigmoid()\n",
            ")\n"
          ]
        }
      ]
    },
    {
      "cell_type": "code",
      "source": [
        "loss_function = nn.MSELoss()\n",
        "optimizer = torch.optim.SGD(model.parameters(), lr=learning_rate)"
      ],
      "metadata": {
        "id": "ONa4RDqJYiBA"
      },
      "execution_count": 12,
      "outputs": []
    },
    {
      "cell_type": "code",
      "source": [
        "losses = []\n",
        "for epoch in range(200000):\n",
        "    pred_y = model(x_train_nt)\n",
        "    loss = loss_function(pred_y, y_train_nt)\n",
        "    losses.append(loss.item())\n",
        "\n",
        "    model.zero_grad()\n",
        "    loss.backward()\n",
        "\n",
        "    optimizer.step()"
      ],
      "metadata": {
        "id": "Cwco6AyCYjgo"
      },
      "execution_count": 13,
      "outputs": []
    },
    {
      "cell_type": "code",
      "source": [
        "y_pr = pred_y.detach().numpy()\n",
        "\n",
        "\n",
        "plt.plot(losses)\n",
        "plt.ylabel('loss')\n",
        "plt.xlabel('epoch')\n",
        "plt.title(\"Learning rate %f\"%(learning_rate))\n",
        "plt.show()\n",
        "\n",
        "(f'The accuracy of is {R2(y_train_n, y_pr)}')\n"
      ],
      "metadata": {
        "colab": {
          "base_uri": "https://localhost:8080/",
          "height": 314
        },
        "id": "1mAJXbAbdZJO",
        "outputId": "aeb3e254-d8cd-4019-f5f1-7a211851b75b"
      },
      "execution_count": 15,
      "outputs": [
        {
          "output_type": "display_data",
          "data": {
            "text/plain": [
              "<Figure size 432x288 with 1 Axes>"
            ],
            "image/png": "[encoded data removed]"
          },
          "metadata": {
            "needs_background": "light"
          }
        },
        {
          "output_type": "execute_result",
          "data": {
            "text/plain": [
              "'The accuracy of is 0.6477016972587342'"
            ],
            "application/vnd.google.colaboratory.intrinsic+json": {
              "type": "string"
            }
          },
          "metadata": {},
          "execution_count": 15
        }
      ]
    },
    {
      "cell_type": "markdown",
      "source": [
        "The pyorch implementation and from scratch implementation performs similarly. We might be able to achieve better fit with more parameter optimization."
      ],
      "metadata": {
        "id": "QueBU65i7GHx"
      }
    },
    {
      "cell_type": "markdown",
      "source": [
        "##**2 b: Hyperparameter Optimization**"
      ],
      "metadata": {
        "id": "zWArSrOdi-Vd"
      }
    },
    {
      "cell_type": "code",
      "source": [
        "x = df.iloc[:,:-1].values\n",
        "y = df.iloc[:,-1].values\n",
        "\n",
        "x_train, x_test, y_train, y_test = train_test_split(x, y, test_size=0.3, random_state=25, stratify = None)\n",
        "y_train = y_train.reshape(721, 1)\n",
        "y_test = y_test.reshape(309, 1)\n",
        "\n",
        "\n",
        "dataset = df\n",
        "normalized_dataset = dataset.apply(lambda val: (val -val.min())/(val.max() - val.min()), axis = 0)          \n",
        "#normalizing the dataset\n",
        "x_n = normalized_dataset.iloc[:,:-1].values\n",
        "y_n = normalized_dataset.iloc[:,-1].values\n",
        "normalized_dataset.head(2)\n"
      ],
      "metadata": {
        "colab": {
          "base_uri": "https://localhost:8080/",
          "height": 225
        },
        "id": "NebF5AsCo3aB",
        "outputId": "d939d623-31af-488d-f4ba-a64b29fb9cba"
      },
      "execution_count": null,
      "outputs": [
        {
          "output_type": "execute_result",
          "data": {
            "text/plain": [
              "   Cement (component 1)(kg in a m^3 mixture)  \\\n",
              "0                                        1.0   \n",
              "1                                        1.0   \n",
              "\n",
              "   Blast Furnace Slag (component 2)(kg in a m^3 mixture)  \\\n",
              "0                                                0.0       \n",
              "1                                                0.0       \n",
              "\n",
              "   Fly Ash (component 3)(kg in a m^3 mixture)  \\\n",
              "0                                         0.0   \n",
              "1                                         0.0   \n",
              "\n",
              "   Water  (component 4)(kg in a m^3 mixture)  \\\n",
              "0                                   0.321357   \n",
              "1                                   0.321357   \n",
              "\n",
              "   Superplasticizer (component 5)(kg in a m^3 mixture)  \\\n",
              "0                                            0.07764     \n",
              "1                                            0.07764     \n",
              "\n",
              "   Coarse Aggregate  (component 6)(kg in a m^3 mixture)  \\\n",
              "0                                           0.694767      \n",
              "1                                           0.738372      \n",
              "\n",
              "   Fine Aggregate (component 7)(kg in a m^3 mixture)  Age (day)  \\\n",
              "0                                            0.20572   0.074176   \n",
              "1                                            0.20572   0.074176   \n",
              "\n",
              "   Concrete compressive strength(MPa, megapascals)   \n",
              "0                                          0.967445  \n",
              "1                                          0.741964  "
            ],
            "text/html": [
              "\n",
              "  <div id=\"df-421de6d9-6c86-4573-9a16-a0be0273241a\">\n",
              "    <div class=\"colab-df-container\">\n",
              "      <div>\n",
              "<style scoped>\n",
              "    .dataframe tbody tr th:only-of-type {\n",
              "        vertical-align: middle;\n",
              "    }\n",
              "\n",
              "    .dataframe tbody tr th {\n",
              "        vertical-align: top;\n",
              "    }\n",
              "\n",
              "    .dataframe thead th {\n",
              "        text-align: right;\n",
              "    }\n",
              "</style>\n",
              "<table border=\"1\" class=\"dataframe\">\n",
              "  <thead>\n",
              "    <tr style=\"text-align: right;\">\n",
              "      <th></th>\n",
              "      <th>Cement (component 1)(kg in a m^3 mixture)</th>\n",
              "      <th>Blast Furnace Slag (component 2)(kg in a m^3 mixture)</th>\n",
              "      <th>Fly Ash (component 3)(kg in a m^3 mixture)</th>\n",
              "      <th>Water  (component 4)(kg in a m^3 mixture)</th>\n",
              "      <th>Superplasticizer (component 5)(kg in a m^3 mixture)</th>\n",
              "      <th>Coarse Aggregate  (component 6)(kg in a m^3 mixture)</th>\n",
              "      <th>Fine Aggregate (component 7)(kg in a m^3 mixture)</th>\n",
              "      <th>Age (day)</th>\n",
              "      <th>Concrete compressive strength(MPa, megapascals)</th>\n",
              "    </tr>\n",
              "  </thead>\n",
              "  <tbody>\n",
              "    <tr>\n",
              "      <th>0</th>\n",
              "      <td>1.0</td>\n",
              "      <td>0.0</td>\n",
              "      <td>0.0</td>\n",
              "      <td>0.321357</td>\n",
              "      <td>0.07764</td>\n",
              "      <td>0.694767</td>\n",
              "      <td>0.20572</td>\n",
              "      <td>0.074176</td>\n",
              "      <td>0.967445</td>\n",
              "    </tr>\n",
              "    <tr>\n",
              "      <th>1</th>\n",
              "      <td>1.0</td>\n",
              "      <td>0.0</td>\n",
              "      <td>0.0</td>\n",
              "      <td>0.321357</td>\n",
              "      <td>0.07764</td>\n",
              "      <td>0.738372</td>\n",
              "      <td>0.20572</td>\n",
              "      <td>0.074176</td>\n",
              "      <td>0.741964</td>\n",
              "    </tr>\n",
              "  </tbody>\n",
              "</table>\n",
              "</div>\n",
              "      <button class=\"colab-df-convert\" onclick=\"convertToInteractive('df-421de6d9-6c86-4573-9a16-a0be0273241a')\"\n",
              "              title=\"Convert this dataframe to an interactive table.\"\n",
              "              style=\"display:none;\">\n",
              "        \n",
              "  <svg xmlns=\"http://www.w3.org/2000/svg\" height=\"24px\"viewBox=\"0 0 24 24\"\n",
              "       width=\"24px\">\n",
              "    <path d=\"M0 0h24v24H0V0z\" fill=\"none\"/>\n",
              "    <path d=\"M18.56 5.44l.94 2.06.94-2.06 2.06-.94-2.06-.94-.94-2.06-.94 2.06-2.06.94zm-11 1L8.5 8.5l.94-2.06 2.06-.94-2.06-.94L8.5 2.5l-.94 2.06-2.06.94zm10 10l.94 2.06.94-2.06 2.06-.94-2.06-.94-.94-2.06-.94 2.06-2.06.94z\"/><path d=\"M17.41 7.96l-1.37-1.37c-.4-.4-.92-.59-1.43-.59-.52 0-1.04.2-1.43.59L10.3 9.45l-7.72 7.72c-.78.78-.78 2.05 0 2.83L4 21.41c.39.39.9.59 1.41.59.51 0 1.02-.2 1.41-.59l7.78-7.78 2.81-2.81c.8-.78.8-2.07 0-2.86zM5.41 20L4 18.59l7.72-7.72 1.47 1.35L5.41 20z\"/>\n",
              "  </svg>\n",
              "      </button>\n",
              "      \n",
              "  <style>\n",
              "    .colab-df-container {\n",
              "      display:flex;\n",
              "      flex-wrap:wrap;\n",
              "      gap: 12px;\n",
              "    }\n",
              "\n",
              "    .colab-df-convert {\n",
              "      background-color: #E8F0FE;\n",
              "      border: none;\n",
              "      border-radius: 50%;\n",
              "      cursor: pointer;\n",
              "      display: none;\n",
              "      fill: #1967D2;\n",
              "      height: 32px;\n",
              "      padding: 0 0 0 0;\n",
              "      width: 32px;\n",
              "    }\n",
              "\n",
              "    .colab-df-convert:hover {\n",
              "      background-color: #E2EBFA;\n",
              "      box-shadow: 0px 1px 2px rgba(60, 64, 67, 0.3), 0px 1px 3px 1px rgba(60, 64, 67, 0.15);\n",
              "      fill: #174EA6;\n",
              "    }\n",
              "\n",
              "    [theme=dark] .colab-df-convert {\n",
              "      background-color: #3B4455;\n",
              "      fill: #D2E3FC;\n",
              "    }\n",
              "\n",
              "    [theme=dark] .colab-df-convert:hover {\n",
              "      background-color: #434B5C;\n",
              "      box-shadow: 0px 1px 3px 1px rgba(0, 0, 0, 0.15);\n",
              "      filter: drop-shadow(0px 1px 2px rgba(0, 0, 0, 0.3));\n",
              "      fill: #FFFFFF;\n",
              "    }\n",
              "  </style>\n",
              "\n",
              "      <script>\n",
              "        const buttonEl =\n",
              "          document.querySelector('#df-421de6d9-6c86-4573-9a16-a0be0273241a button.colab-df-convert');\n",
              "        buttonEl.style.display =\n",
              "          google.colab.kernel.accessAllowed ? 'block' : 'none';\n",
              "\n",
              "        async function convertToInteractive(key) {\n",
              "          const element = document.querySelector('#df-421de6d9-6c86-4573-9a16-a0be0273241a');\n",
              "          const dataTable =\n",
              "            await google.colab.kernel.invokeFunction('convertToInteractive',\n",
              "                                                     [key], {});\n",
              "          if (!dataTable) return;\n",
              "\n",
              "          const docLinkHtml = 'Like what you see? Visit the ' +\n",
              "            '<a target=\"_blank\" href=https://colab.research.google.com/notebooks/data_table.ipynb>data table notebook</a>'\n",
              "            + ' to learn more about interactive tables.';\n",
              "          element.innerHTML = '';\n",
              "          dataTable['output_type'] = 'display_data';\n",
              "          await google.colab.output.renderOutput(dataTable, element);\n",
              "          const docLink = document.createElement('div');\n",
              "          docLink.innerHTML = docLinkHtml;\n",
              "          element.appendChild(docLink);\n",
              "        }\n",
              "      </script>\n",
              "    </div>\n",
              "  </div>\n",
              "  "
            ]
          },
          "metadata": {},
          "execution_count": 39
        }
      ]
    },
    {
      "cell_type": "code",
      "source": [
        "#q2:b1\n",
        "x_train, x_test_1, y_train, y_test_1 = train_test_split(x_n, y_n, test_size=0.4, random_state=25, stratify = None)\n",
        "#y_train = y_train.reshape(721, 1)\n",
        "#y_test = y_test.reshape(309, 1)"
      ],
      "metadata": {
        "id": "e_owlZlqjHXS"
      },
      "execution_count": null,
      "outputs": []
    },
    {
      "cell_type": "code",
      "source": [
        "y_train = y_train.reshape(618, 1)"
      ],
      "metadata": {
        "id": "9756Kostl0S-"
      },
      "execution_count": null,
      "outputs": []
    },
    {
      "cell_type": "code",
      "source": [
        "x_test, x_val, y_test, y_val = train_test_split(x_test_1, y_test_1, test_size=0.5, random_state=25, stratify = None)\n",
        "y_val = y_val.reshape(206, 1)\n",
        "y_test = y_test.reshape(206, 1)"
      ],
      "metadata": {
        "id": "UXlLgvZnjZ2G"
      },
      "execution_count": null,
      "outputs": []
    },
    {
      "cell_type": "markdown",
      "source": [
        "\n",
        "**1. checking the performance for 2 neurons**"
      ],
      "metadata": {
        "id": "cw5o0f_1oDgi"
      }
    },
    {
      "cell_type": "code",
      "source": [
        "def sigmoid(z):\n",
        "    return 1/(1 + np.exp(-z))\n",
        "\n",
        "def sigm_der(z):\n",
        "    one = np.ones((z.shape))\n",
        "    return z*(one-z)\n",
        "\n",
        "def ReLu(z):\n",
        "  return np.maximum(0, z)\n",
        "\n",
        "def forward(x, w1, w2, B1, B2):\n",
        "  z2 = x.dot(w1) + B1\n",
        "  a2 = sigmoid(z2)\n",
        "  #a2 = ReLu(z2)\n",
        "  z3 = a2.dot(w2) + B2\n",
        "  a3 = sigmoid(z3)\n",
        "  #a3 = ReLu(z3)\n",
        "\n",
        "  return z2, a2, z3, a3\n",
        "\n",
        "def weight_init(x, y, n_h):  # n_h is the number of neurons in the hidden layer\n",
        "  m, n = x.shape\n",
        "  w1 = np.random.randn(n, n_h)\n",
        "  w2 = np.random.randn(n_h, 1)\n",
        "  B1 = np.random.randn(n_h)\n",
        "  B2 = np.random.randn(1)\n",
        "\n",
        "  return w1, w2, B1, B2\n",
        "\n",
        "def loss(y_hat, y_true):\n",
        "  return sum(-y_true*np.log(y_hat) - (1-y_true)*np.log(1-y_hat))\n",
        "  #return -y_true.T.dot(np.log(y_hat)) - (1-y_true).T.dot(np.log(1-y_hat))\n",
        "\n",
        "\n",
        "def backward(x, y, w1, w2, alpha, B1, B2):\n",
        "  z2, a2, z3, a3 = forward(x, w1, w2, B1, B2)\n",
        "  delta_3 = a3 -y\n",
        "  dw2 = a2.T.dot(delta_3)  \n",
        "  delta_2 = np.multiply(((w2.dot(delta_3.T))).T, np.multiply(a2, 1-a2)) \n",
        "  dw1 = x.T.dot(delta_2)\n",
        "  w1 = w1 - alpha*dw1\n",
        "  w2 = w2 - alpha*dw2\n",
        "\n",
        "  dB2 = delta_3\n",
        "  dB1 = delta_2\n",
        "\n",
        "  B1 = B1 - alpha*dB1\n",
        "  B2 = B2 - alpha*dB2\n",
        "  return w1, w2 \n",
        "\n",
        "def zeroones(y_pred):\n",
        "  y_pred[y_pred > 0.5] = 1\n",
        "  y_pred[y_pred < 0.5] = 0\n",
        "  return y_pred\n",
        "\n",
        "def prediction_cls(x_test, y_test, w1_final, w2_final, b1_final, b2_final):\n",
        "  z2f, a2f, a3f, a3f = forward(x_test, w1_final, w2_final, b1_final, b2_final)\n",
        "  acc = ACC(a3f, y_test)\n",
        "  return acc\n",
        "\n",
        "def prediction_reg(x_test, y_test, w1_final, w2_final, b1_final, b2_final):\n",
        "  z2f, a2f, a3f, a3f = forward(x_test, w1_final, w2_final, b1_final, b2_final)\n",
        "  r2s = R2(a3f, y_test)\n",
        "  return r2s\n"
      ],
      "metadata": {
        "id": "g42Ocx_Np8Na"
      },
      "execution_count": null,
      "outputs": []
    },
    {
      "cell_type": "code",
      "source": [
        "err =[]\n",
        "w1, w2, B1, B2 = weight_init(x_train, y_train, 2)\n",
        "for i in range(20000):\n",
        "    z2, a2, z3, a3 = forward(x_train, w1, w2, B1, B2)\n",
        "\n",
        "    err.append(loss(a3, y_train))\n",
        "\n",
        "    w1, w2 = backward(x_train, y_train, w1, w2, 0.001, B1, B2)\n"
      ],
      "metadata": {
        "id": "6guPZTUOn_nJ"
      },
      "execution_count": null,
      "outputs": []
    },
    {
      "cell_type": "code",
      "source": [
        "# Accuracy\n",
        "print (f'Train data R2 score is {R2(a3,y_train)}')\n",
        "plt.figure\n",
        "plt.plot(err)\n",
        "\n",
        "print(f'validation data R2 score is {prediction_reg(x_val, y_val, w1, w2, B1, B2)}')\n",
        "print(f'Test data R2 score is {prediction_reg(x_test, y_test, w1, w2, B1, B2)}')"
      ],
      "metadata": {
        "colab": {
          "base_uri": "https://localhost:8080/",
          "height": 317
        },
        "id": "f9aquKJsn-i1",
        "outputId": "7e5328af-b21d-4c99-dec0-acb341bb5f5e"
      },
      "execution_count": null,
      "outputs": [
        {
          "output_type": "stream",
          "name": "stdout",
          "text": [
            "Train data R2 score is 0.7779547673169115\n",
            "validation data R2 score is 0.6952460604446471\n",
            "Test data R2 score is 0.7002459462130278\n"
          ]
        },
        {
          "output_type": "display_data",
          "data": {
            "text/plain": [
              "<Figure size 432x288 with 1 Axes>"
            ],
            "image/png": "[encoded data removed]"
          },
          "metadata": {
            "needs_background": "light"
          }
        }
      ]
    },
    {
      "cell_type": "markdown",
      "source": [
        "**2. checking the performance for 10 neurons**"
      ],
      "metadata": {
        "id": "SrcCZyPw0Ddr"
      }
    },
    {
      "cell_type": "code",
      "source": [
        "err =[]\n",
        "w1, w2, B1, B2 = weight_init(x_train, y_train, 10)\n",
        "for i in range(20000):\n",
        "    z2, a2, z3, a3 = forward(x_train, w1, w2, B1, B2)\n",
        "\n",
        "    err.append(loss(a3, y_train))\n",
        "\n",
        "    w1, w2 = backward(x_train, y_train, w1, w2, 0.001, B1, B2)\n"
      ],
      "metadata": {
        "id": "2pip8nA6nrdF"
      },
      "execution_count": null,
      "outputs": []
    },
    {
      "cell_type": "code",
      "source": [
        "# Accuracy with 10 neurons\n",
        "print (f'Train data R2 score is {R2(a3,y_train)}')\n",
        "plt.figure\n",
        "plt.plot(err)\n",
        "\n",
        "print(f'validation data R2 score is {prediction_reg(x_val, y_val, w1, w2, B1, B2)}')\n",
        "print(f'Test data R2 score is {prediction_reg(x_test, y_test, w1, w2, B1, B2)}')"
      ],
      "metadata": {
        "colab": {
          "base_uri": "https://localhost:8080/",
          "height": 317
        },
        "id": "Uh5b1OCQn25z",
        "outputId": "926019ea-11d9-4524-9cd0-ef76d6562e52"
      },
      "execution_count": null,
      "outputs": [
        {
          "output_type": "stream",
          "name": "stdout",
          "text": [
            "Train data R2 score is 0.8443031352493453\n",
            "validation data R2 score is 0.7808326743437422\n",
            "Test data R2 score is 0.7804784270313179\n"
          ]
        },
        {
          "output_type": "display_data",
          "data": {
            "text/plain": [
              "<Figure size 432x288 with 1 Axes>"
            ],
            "image/png": "[encoded data removed]"
          },
          "metadata": {
            "needs_background": "light"
          }
        }
      ]
    },
    {
      "cell_type": "markdown",
      "source": [
        "**3. checking the performance for 4 neurons**"
      ],
      "metadata": {
        "id": "shaeFscP0LwE"
      }
    },
    {
      "cell_type": "code",
      "source": [
        "err =[]\n",
        "w1, w2, B1, B2 = weight_init(x_train, y_train, 4)\n",
        "for i in range(20000):\n",
        "    z2, a2, z3, a3 = forward(x_train, w1, w2, B1, B2)\n",
        "\n",
        "    err.append(loss(a3, y_train))\n",
        "\n",
        "    w1, w2 = backward(x_train, y_train, w1, w2, 0.001, B1, B2)\n"
      ],
      "metadata": {
        "id": "rHTF5N8XkC1b"
      },
      "execution_count": null,
      "outputs": []
    },
    {
      "cell_type": "code",
      "source": [
        "# Accuracy\n",
        "print (f'Train data R2 score is {R2(a3,y_train)}')\n",
        "plt.figure\n",
        "plt.plot(err)\n",
        "\n",
        "print(f'validation data R2 score is {prediction_reg(x_val, y_val, w1, w2, B1, B2)}')\n",
        "print(f'Test data R2 score is {prediction_reg(x_test, y_test, w1, w2, B1, B2)}')"
      ],
      "metadata": {
        "colab": {
          "base_uri": "https://localhost:8080/",
          "height": 317
        },
        "outputId": "c39c9d05-c4a3-4805-d8b1-995c040d70e5",
        "id": "ocECADGTkC1b"
      },
      "execution_count": null,
      "outputs": [
        {
          "output_type": "stream",
          "name": "stdout",
          "text": [
            "Train data R2 score is 0.8241240957401056\n",
            "validation data R2 score is 0.735006871907403\n",
            "Test data R2 score is 0.7544398312550381\n"
          ]
        },
        {
          "output_type": "display_data",
          "data": {
            "text/plain": [
              "<Figure size 432x288 with 1 Axes>"
            ],
            "image/png": "[encoded data removed]"
          },
          "metadata": {
            "needs_background": "light"
          }
        }
      ]
    },
    {
      "cell_type": "markdown",
      "source": [
        "**4. checking the performance for 25 neurons**"
      ],
      "metadata": {
        "id": "1wegCf6_0PFy"
      }
    },
    {
      "cell_type": "code",
      "source": [
        "err =[]\n",
        "w1, w2, B1, B2 = weight_init(x_train, y_train, 25)\n",
        "for i in range(20000):\n",
        "    z2, a2, z3, a3 = forward(x_train, w1, w2, B1, B2)\n",
        "\n",
        "    err.append(loss(a3, y_train))\n",
        "\n",
        "    w1, w2 = backward(x_train, y_train, w1, w2, 0.001, B1, B2)\n"
      ],
      "metadata": {
        "id": "MbJk7Ax2oOTM"
      },
      "execution_count": null,
      "outputs": []
    },
    {
      "cell_type": "code",
      "source": [
        "# Accuracy\n",
        "print (f'Train data R2 score is {R2(a3,y_train)}')\n",
        "plt.figure\n",
        "plt.plot(err)\n",
        "\n",
        "print(f'validation data R2 score is {prediction_reg(x_val, y_val, w1, w2, B1, B2)}')\n",
        "print(f'Test data R2 score is {prediction_reg(x_test, y_test, w1, w2, B1, B2)}')"
      ],
      "metadata": {
        "colab": {
          "base_uri": "https://localhost:8080/",
          "height": 317
        },
        "id": "Nsoo3pFjoRWt",
        "outputId": "de4d78ae-c0b7-46a2-88d3-0f52b9e2dfd8"
      },
      "execution_count": null,
      "outputs": [
        {
          "output_type": "stream",
          "name": "stdout",
          "text": [
            "Train data R2 score is 0.85447727099553\n",
            "validation data R2 score is 0.7775209547030093\n",
            "Test data R2 score is 0.7894232306260246\n"
          ]
        },
        {
          "output_type": "display_data",
          "data": {
            "text/plain": [
              "<Figure size 432x288 with 1 Axes>"
            ],
            "image/png": "[encoded data removed]"
          },
          "metadata": {
            "needs_background": "light"
          }
        }
      ]
    },
    {
      "cell_type": "markdown",
      "source": [
        "**Observations from experimenting using number of neurons in hidden layer:**\n",
        "\n",
        "1. with increase in number of nuerons, the performance of the model increased.\n",
        "\n",
        "2. so taking the optimal number of neurons as per the experiments above as 25 and now experimenting the epochs"
      ],
      "metadata": {
        "id": "i9DL0u6d0S4S"
      }
    },
    {
      "cell_type": "markdown",
      "source": [
        "optimizing the number of epochs:\n",
        "1. checking the performance for 25 neurons and different number of epochs"
      ],
      "metadata": {
        "id": "SAr935tJ0zvF"
      }
    },
    {
      "cell_type": "markdown",
      "source": [
        "200 epoch"
      ],
      "metadata": {
        "id": "5gz__d9gl3yF"
      }
    },
    {
      "cell_type": "code",
      "source": [
        "err =[]\n",
        "w1, w2, B1, B2 = weight_init(x_train, y_train, 25)\n",
        "for i in range(200):\n",
        "    z2, a2, z3, a3 = forward(x_train, w1, w2, B1, B2)\n",
        "\n",
        "    err.append(loss(a3, y_train))\n",
        "\n",
        "    w1, w2 = backward(x_train, y_train, w1, w2, 0.001, B1, B2)\n"
      ],
      "metadata": {
        "id": "3bU6yAV_oqTE"
      },
      "execution_count": null,
      "outputs": []
    },
    {
      "cell_type": "code",
      "source": [
        "# Accuracy\n",
        "print (f'Train data R2 score is {R2(a3,y_train)}')\n",
        "plt.figure\n",
        "plt.plot(err)\n",
        "\n",
        "print(f'validation data R2 score is {prediction_reg(x_val, y_val, w1, w2, B1, B2)}')\n",
        "print(f'Test data R2 score is {prediction_reg(x_test, y_test, w1, w2, B1, B2)}')"
      ],
      "metadata": {
        "colab": {
          "base_uri": "https://localhost:8080/",
          "height": 318
        },
        "id": "znLyP7xipC94",
        "outputId": "6aca0e13-559d-4dab-ad4f-79a4b819745a"
      },
      "execution_count": null,
      "outputs": [
        {
          "output_type": "stream",
          "name": "stdout",
          "text": [
            "Train data R2 score is 0.1580632741311151\n",
            "validation data R2 score is 0.07376518381885488\n",
            "Test data R2 score is 0.25462573005211553\n"
          ]
        },
        {
          "output_type": "display_data",
          "data": {
            "text/plain": [
              "<Figure size 432x288 with 1 Axes>"
            ],
            "image/png": "[encoded data removed]"
          },
          "metadata": {
            "needs_background": "light"
          }
        }
      ]
    },
    {
      "cell_type": "markdown",
      "source": [
        "**with decrease in number of epoch to 200, the performance drastically decreased**"
      ],
      "metadata": {
        "id": "EGHaBNWwpHiN"
      }
    },
    {
      "cell_type": "markdown",
      "source": [
        "**now increasing the number of epochs to 2000**"
      ],
      "metadata": {
        "id": "R5ovq2j41FHP"
      }
    },
    {
      "cell_type": "code",
      "source": [
        "err =[]\n",
        "w1, w2, B1, B2 = weight_init(x_train, y_train, 25)\n",
        "for i in range(2000):\n",
        "    z2, a2, z3, a3 = forward(x_train, w1, w2, B1, B2)\n",
        "\n",
        "    err.append(loss(a3, y_train))\n",
        "\n",
        "    w1, w2 = backward(x_train, y_train, w1, w2, 0.001, B1, B2)\n"
      ],
      "metadata": {
        "id": "yGHeCrtCpTqc"
      },
      "execution_count": null,
      "outputs": []
    },
    {
      "cell_type": "code",
      "source": [
        "# Accuracy\n",
        "print (f'Train data R2 score is {R2(a3,y_train)}')\n",
        "plt.figure\n",
        "plt.plot(err)\n",
        "\n",
        "print(f'validation data R2 score is {prediction_reg(x_val, y_val, w1, w2, B1, B2)}')\n",
        "print(f'Test data R2 score is {prediction_reg(x_test, y_test, w1, w2, B1, B2)}')"
      ],
      "metadata": {
        "colab": {
          "base_uri": "https://localhost:8080/",
          "height": 317
        },
        "id": "ngAu6KSIpTAK",
        "outputId": "333a200e-a1db-413e-ba36-fbdac8849649"
      },
      "execution_count": null,
      "outputs": [
        {
          "output_type": "stream",
          "name": "stdout",
          "text": [
            "Train data R2 score is 0.5764822636335849\n",
            "validation data R2 score is 0.5215062607953653\n",
            "Test data R2 score is 0.5700270600092952\n"
          ]
        },
        {
          "output_type": "display_data",
          "data": {
            "text/plain": [
              "<Figure size 432x288 with 1 Axes>"
            ],
            "image/png": "[encoded data removed]"
          },
          "metadata": {
            "needs_background": "light"
          }
        }
      ]
    },
    {
      "cell_type": "markdown",
      "source": [
        "**number of epoch increased further to 40000**"
      ],
      "metadata": {
        "id": "sybixlbZ1OVW"
      }
    },
    {
      "cell_type": "code",
      "source": [
        "err =[]\n",
        "w1, w2, B1, B2 = weight_init(x_train, y_train, 25)\n",
        "for i in range(40000):\n",
        "    z2, a2, z3, a3 = forward(x_train, w1, w2, B1, B2)\n",
        "\n",
        "    err.append(loss(a3, y_train))\n",
        "\n",
        "    w1, w2 = backward(x_train, y_train, w1, w2, 0.001, B1, B2)\n"
      ],
      "metadata": {
        "id": "8BVulwu8pa7G"
      },
      "execution_count": null,
      "outputs": []
    },
    {
      "cell_type": "code",
      "source": [
        "# Accuracy\n",
        "print (f'Train data R2 score is {R2(a3,y_train)}')\n",
        "plt.figure\n",
        "plt.plot(err)\n",
        "\n",
        "print(f'validation data R2 score is {prediction_reg(x_val, y_val, w1, w2, B1, B2)}')\n",
        "print(f'Test data R2 score is {prediction_reg(x_test, y_test, w1, w2, B1, B2)}')"
      ],
      "metadata": {
        "colab": {
          "base_uri": "https://localhost:8080/",
          "height": 317
        },
        "id": "BHza-96upej7",
        "outputId": "dbcdd9d8-5ff2-4b64-bae2-f4bd3c1daf25"
      },
      "execution_count": null,
      "outputs": [
        {
          "output_type": "stream",
          "name": "stdout",
          "text": [
            "Train data R2 score is 0.5764822636335849\n",
            "validation data R2 score is 0.5215062607953653\n",
            "Test data R2 score is 0.5700270600092952\n"
          ]
        },
        {
          "output_type": "display_data",
          "data": {
            "text/plain": [
              "<Figure size 432x288 with 1 Axes>"
            ],
            "image/png": "[encoded data removed]"
          },
          "metadata": {
            "needs_background": "light"
          }
        }
      ]
    },
    {
      "cell_type": "markdown",
      "source": [
        "**with increase in epoch the performance improved**"
      ],
      "metadata": {
        "id": "4H2zMkbxpory"
      }
    },
    {
      "cell_type": "markdown",
      "source": [
        "**increasing the number of epoch to 60000**"
      ],
      "metadata": {
        "id": "rGHFe1k-1W6u"
      }
    },
    {
      "cell_type": "code",
      "source": [
        "err =[]\n",
        "w1, w2, B1, B2 = weight_init(x_train, y_train, 25)\n",
        "for i in range(60000):\n",
        "    z2, a2, z3, a3 = forward(x_train, w1, w2, B1, B2)\n",
        "\n",
        "    err.append(loss(a3, y_train))\n",
        "\n",
        "    w1, w2 = backward(x_train, y_train, w1, w2, 0.001, B1, B2)\n"
      ],
      "metadata": {
        "id": "F2Ttl8F2puKU"
      },
      "execution_count": null,
      "outputs": []
    },
    {
      "cell_type": "code",
      "source": [
        "# Accuracy\n",
        "print (f'Train data R2 score is {R2(a3,y_train)}')\n",
        "plt.figure\n",
        "plt.plot(err)\n",
        "\n",
        "print(f'validation data R2 score is {prediction_reg(x_val, y_val, w1, w2, B1, B2)}')\n",
        "print(f'Test data R2 score is {prediction_reg(x_test, y_test, w1, w2, B1, B2)}')"
      ],
      "metadata": {
        "id": "ghfStBNCptH_"
      },
      "execution_count": null,
      "outputs": []
    },
    {
      "cell_type": "markdown",
      "source": [
        "**observations with number of epochs:**\n",
        "1. the optimal can be observed at around 60000 epoch. now changing the learning rate"
      ],
      "metadata": {
        "id": "lB_DfqlHqFhC"
      }
    },
    {
      "cell_type": "markdown",
      "source": [
        "**now optimizing the learning rate:**\n",
        "\n",
        "**decreasing the learning rate to 0.0001**"
      ],
      "metadata": {
        "id": "Tpr7EBIR1dc9"
      }
    },
    {
      "cell_type": "code",
      "source": [
        "err =[]\n",
        "w1, w2, B1, B2 = weight_init(x_train, y_train, 25)\n",
        "for i in range(60000):\n",
        "    z2, a2, z3, a3 = forward(x_train, w1, w2, B1, B2)\n",
        "\n",
        "    err.append(loss(a3, y_train))\n",
        "\n",
        "    w1, w2 = backward(x_train, y_train, w1, w2, 0.0001, B1, B2)\n"
      ],
      "metadata": {
        "id": "fqP4KZJ1qR-2"
      },
      "execution_count": null,
      "outputs": []
    },
    {
      "cell_type": "code",
      "source": [
        "# Accuracy\n",
        "print (f'Train data R2 score is {R2(a3,y_train)}')\n",
        "plt.figure\n",
        "plt.plot(err)\n",
        "\n",
        "print(f'validation data R2 score is {prediction_reg(x_val, y_val, w1, w2, B1, B2)}')\n",
        "print(f'Test data R2 score is {prediction_reg(x_test, y_test, w1, w2, B1, B2)}')"
      ],
      "metadata": {
        "id": "79ahbYhUrv1o"
      },
      "execution_count": null,
      "outputs": []
    },
    {
      "cell_type": "markdown",
      "source": [
        "**with decrease in lr, performance decreased**"
      ],
      "metadata": {
        "id": "bSeVb3sxr8Q-"
      }
    },
    {
      "cell_type": "markdown",
      "source": [
        "**increasing the learning rate further to 0.01**"
      ],
      "metadata": {
        "id": "pOYbicdb1zFi"
      }
    },
    {
      "cell_type": "code",
      "source": [
        "err =[]\n",
        "w1, w2, B1, B2 = weight_init(x_train, y_train, 25)\n",
        "for i in range(60000):\n",
        "    z2, a2, z3, a3 = forward(x_train, w1, w2, B1, B2)\n",
        "\n",
        "    err.append(loss(a3, y_train))\n",
        "\n",
        "    w1, w2 = backward(x_train, y_train, w1, w2, 0.01, B1, B2)\n"
      ],
      "metadata": {
        "id": "SmVBQzhRsD3R"
      },
      "execution_count": null,
      "outputs": []
    },
    {
      "cell_type": "code",
      "source": [
        "# Accuracy\n",
        "print (f'Train data R2 score is {R2(a3,y_train)}')\n",
        "plt.figure\n",
        "plt.plot(err)\n",
        "\n",
        "print(f'validation data R2 score is {prediction_reg(x_val, y_val, w1, w2, B1, B2)}')\n",
        "print(f'Test data R2 score is {prediction_reg(x_test, y_test, w1, w2, B1, B2)}')"
      ],
      "metadata": {
        "id": "If2Xck54sCzn"
      },
      "execution_count": null,
      "outputs": []
    },
    {
      "cell_type": "markdown",
      "source": [
        "**increasing the learning rate increased the performance**"
      ],
      "metadata": {
        "id": "kq_Dd79ys66z"
      }
    },
    {
      "cell_type": "code",
      "source": [
        "# Accuracy\n",
        "print (f'Train data R2 score is {R2(a3,y_train)}')\n",
        "plt.figure\n",
        "plt.plot(err)\n",
        "\n",
        "print(f'validation data R2 score is {prediction_reg(x_val, y_val, w1, w2, B1, B2)}')\n",
        "print(f'Test data R2 score is {prediction_reg(x_test, y_test, w1, w2, B1, B2)}')"
      ],
      "metadata": {
        "id": "0tWiU-0xtUMo"
      },
      "execution_count": null,
      "outputs": []
    },
    {
      "cell_type": "markdown",
      "source": [
        "**final observations in fine tuning:**\n",
        "\n",
        "1. with increase in number of neurons in hidden layer, the model performance improved. this maybe due to increased capacity of the model in the single hidden layer, more on this can be observed in further parts.\n",
        "2. with increase in epochs the performance improved.\n",
        "3. for very smaller learning rates (0.001,0.0001...), do not result in optimal model. increasing the learning rate to 0.01 improved the performance."
      ],
      "metadata": {
        "id": "nQM02WOZmuLs"
      }
    },
    {
      "cell_type": "markdown",
      "source": [
        "##**2 c: Comparison with linear and Quadratic Regression**"
      ],
      "metadata": {
        "id": "98IGFg2ClQTt"
      }
    },
    {
      "cell_type": "markdown",
      "source": [
        "**The R2 score achieved using the linear model is 62.33% and with quadratic model is 73.15 %.**\n",
        "\n",
        "**The optimal neural network model achieved an R2 score of 82.9 %.**\n",
        "**There may be room for further improvement in the neural network, but it can be seen that the neural network is performing better than both the previously implemented model.**"
      ],
      "metadata": {
        "id": "BEASXi7LmVI4"
      }
    },
    {
      "cell_type": "markdown",
      "source": [
        "##**2d: part 1: Multilayer Perceptron**\n",
        "\n"
      ],
      "metadata": {
        "id": "weXHrywtCCrO"
      }
    },
    {
      "cell_type": "markdown",
      "source": [
        "**2d: part 1: Multilayer Perceptron**\n",
        "\n"
      ],
      "metadata": {
        "id": "9mp4cUcpr7gZ"
      }
    },
    {
      "cell_type": "code",
      "source": [
        "def initialize(X, Y, n_list): \n",
        "  #n_list is the list of neurons per hidden layer in that order(Not including the first layer).\n",
        "  #make a dictionary of weights with layer number as the key\n",
        "  m, n = X.shape\n",
        "  n_list.insert(0, n)\n",
        "  n_layers = len(n_list)\n",
        "  layers = dict()\n",
        "  \n",
        "  for i in range(n_layers):\n",
        "    layers[i+1] = n_list[i]\n",
        "  print(f'The layers and the neurons per those layers (layer no: no. of neurons): {layers}')\n",
        "\n",
        "  # weights initialization\n",
        "  w_dict = dict()\n",
        "  b_dict = dict()\n",
        "  for i in range(n_layers -1):\n",
        "    n1 = layers[i+1]\n",
        "    n2 = layers[i+2]\n",
        "    w_dict[i+1] = np.random.randn(n1, n2)\n",
        "    b_dict[i+1] = np.random.randn()\n",
        "  print('Wights and Biases for each layer generated Succesfully')\n",
        "\n",
        "  return layers, w_dict, b_dict\n",
        "\n",
        "\n",
        "\n",
        "\n",
        "def looping(x, y, w_dict, b_dict, n_layers, alpha):\n",
        "                                                              # forward pass\n",
        "  z_val = dict()\n",
        "  a_val = dict()\n",
        "  a_val[1] = x\n",
        "  for i in range(len(w_dict)):\n",
        "    z_val[i+2] = a_val[i+1].dot(w_dict[i+1]) + b_dict[i+1]\n",
        "    a_val[i+2] = (sigmoid(z_val[i+2]))\n",
        "  #print('Forward pass')\n",
        "                                                                \n",
        "  y_hat = a_val[n_layers]\n",
        "  delta_val = dict()\n",
        "  ind = n_layers \n",
        "  delta_val[ind] = -(y-y_hat)\n",
        " # print(delta_val[ind].shape)\n",
        "  dw_val = dict()\n",
        "  db_val = dict()\n",
        "  dw_val[ind-1] = a_val[ind -1].T.dot(delta_val[ind]) \n",
        "  db_val[ind-1] = np.sum(delta_val[ind], axis = 0, keepdims =True)\n",
        "  #db_val[ind-1] = delta_val[ind]\n",
        "  \n",
        "  for i in range(1, len(w_dict)):\n",
        "    delta_val[ind-i] = np.multiply(((w_dict[ind-i]).dot((delta_val[ind-i+1]).T)).T , np.multiply(a_val[ind-i],(1-a_val[ind-i])))\n",
        "    dw_val[ind-1-i] = (a_val[ind-1-i].T).dot(delta_val[ind-i])/m\n",
        "    db_val[ind-1-i]  = np.sum(delta_val[ind-i], axis = 0, keepdims =True)/m\n",
        "\n",
        "# update weights\n",
        "  for k in range(len(w_dict)): \n",
        "    w_dict[i+1] = w_dict[i+1] - alpha*dw_val[i+1]\n",
        "    b_dict[i+1] = b_dict[i+1] - alpha*db_val[i+1]\n",
        "  #print('weights updated')\n",
        "  return w_dict, b_dict, y_hat # these are the updated weights\n",
        "\n",
        "\n",
        "def prediction(X, Y, W_dict, b_dict):\n",
        "  n_layers = len(W_dict)+1\n",
        "  z_val = dict()\n",
        "  a_val = dict()\n",
        "  a_val[1] = X\n",
        "  for i in range(len(W_dict)):\n",
        "    z_val[i+2] = a_val[i+1].dot(w_dict[i+1]) + b_dict[i+1]\n",
        "    a_val[i+2] = (sigmoid(z_val[i+2]))\n",
        "  y_pred = a_val[n_layers]\n",
        "  bce = sum(-Y*np.log(y_pred) - (1-Y)*np.log(1-y_pred))\n",
        "  return y_pred\n"
      ],
      "metadata": {
        "id": "rRrMm7Wir7gZ"
      },
      "execution_count": null,
      "outputs": []
    },
    {
      "cell_type": "code",
      "source": [
        "df = pd.read_excel(\"Concrete_Data.xls\")\n",
        "df.head(2)\n",
        "dataset = df\n",
        "normalized_dataset = dataset.apply(lambda val: (val -val.min())/(val.max() - val.min()), axis = 0)       \n",
        "\n",
        "x_n = normalized_dataset.iloc[:,:-1].values\n",
        "y_n = normalized_dataset.iloc[:,-1].values\n",
        "\n",
        "x_train_n, x_test_n, y_train_n, y_test_n = train_test_split(x_n, y_n, test_size=0.4, random_state=4, stratify = None)\n",
        "m, n = x_train_n.shape\n",
        "\n",
        "# new_col = np.ones((len(x_train_n),1))\n",
        "# x_train_n = np.append(x_train_n, new_col, axis=1)\n",
        "\n",
        "# new_col = np.ones((len(x_test_n),1))\n",
        "# x_test_n = np.append(x_test_n, new_col, axis=1)\n",
        "\n",
        "\n",
        "y_train_n = y_train_n.reshape(m, 1 )\n",
        "y_test_n = y_test_n.reshape(412, 1)\n",
        "X = x_train_n\n",
        "Y= y_train_n"
      ],
      "metadata": {
        "id": "1ktu9Id6r7ga"
      },
      "execution_count": null,
      "outputs": []
    },
    {
      "cell_type": "markdown",
      "source": [
        "**Structure 1: 1 hidden layer, 4 nerons in the hidden layer**"
      ],
      "metadata": {
        "id": "O10f8q39j_O8"
      }
    },
    {
      "cell_type": "code",
      "source": [
        "l = list([4,1])\n",
        "layer_dict, w_dict, b_dict = initialize(X, Y, l )\n",
        "\n",
        "#print(b_dict[4]),\n",
        "\n",
        "epoch = 15000\n",
        "loss_bce = []\n",
        "for i in range(epoch):\n",
        "  w_dict, b_dict, y_hat = looping(X, Y, w_dict, b_dict, n_layers = len(l), alpha = 0.001)\n",
        "  #print(b_dict[4].shape)\n",
        "  loss = (sum(-Y*np.log(y_hat) - (1-Y)*np.log(1-y_hat)))\n",
        "  loss_bce.append(loss)\n",
        "print(f'completed {i} iterations')\n",
        "import matplotlib.pyplot as plt\n",
        "plt.figure\n",
        "plt.plot(loss_bce)\n",
        "\n",
        "#print(f'The predictions are:\\n {y_bin}')\n",
        "# Accuracy\n",
        "\n",
        "y_pred_tr = prediction(x_train_n, y_train_n, w_dict, b_dict)\n",
        "print (f'Train data R2 score  is {R2(y_pred_tr, Y )}')\n",
        "\n",
        "\n",
        "\n",
        "y_predicted_te = prediction(x_test_n, y_test_n, w_dict, b_dict)\n",
        "\n",
        "print(f'Test data R2 score is {R2(y_predicted_te, y_test_n)}')\n",
        "\n"
      ],
      "metadata": {
        "colab": {
          "base_uri": "https://localhost:8080/",
          "height": 357
        },
        "outputId": "a7707f1b-ed90-45e5-a41c-4d33fa928d13",
        "id": "S_lCG7OYr7ga"
      },
      "execution_count": null,
      "outputs": [
        {
          "output_type": "stream",
          "name": "stdout",
          "text": [
            "The layers and the neurons per those layers (layer no: no. of neurons): {1: 8, 2: 4, 3: 1}\n",
            "Wights and Biases for each layer generated Succesfully\n",
            "completed 14999 iterations\n",
            "Train data R2 score  is -6.750754764217254\n",
            "Test data R2 score is -7.291799741671062\n"
          ]
        },
        {
          "output_type": "display_data",
          "data": {
            "text/plain": [
              "<Figure size 432x288 with 1 Axes>"
            ],
            "image/png": "[encoded data removed]"
          },
          "metadata": {
            "needs_background": "light"
          }
        }
      ]
    },
    {
      "cell_type": "markdown",
      "source": [
        "**Structure 2: 1 hidden layer 25 neurons**"
      ],
      "metadata": {
        "id": "qbnPgynykgMj"
      }
    },
    {
      "cell_type": "code",
      "source": [
        "l = list([25,1])\n",
        "layer_dict, w_dict, b_dict = initialize(X, Y, l )\n",
        "\n",
        "#print(b_dict[4]),\n",
        "\n",
        "epoch = 15000\n",
        "loss_bce = []\n",
        "for i in range(epoch):\n",
        "  w_dict, b_dict, y_hat = looping(X, Y, w_dict, b_dict, n_layers = len(l), alpha = 0.001)\n",
        "  #print(b_dict[4].shape)\n",
        "  loss = (sum(-Y*np.log(y_hat) - (1-Y)*np.log(1-y_hat)))\n",
        "  loss_bce.append(loss)\n",
        "print(f'completed {i} iterations')\n",
        "import matplotlib.pyplot as plt\n",
        "plt.figure\n",
        "plt.plot(loss_bce)\n",
        "\n",
        "#print(f'The predictions are:\\n {y_bin}')\n",
        "# Accuracy\n",
        "\n",
        "y_pred_tr = prediction(x_train_n, y_train_n, w_dict, b_dict)\n",
        "print (f'Train data R2 score  is {R2(y_pred_tr, Y )}')\n",
        "\n",
        "\n",
        "\n",
        "y_predicted_te = prediction(x_test_n, y_test_n, w_dict, b_dict)\n",
        "\n",
        "print(f'Test data R2 score is {R2(y_predicted_te, y_test_n)}')"
      ],
      "metadata": {
        "colab": {
          "base_uri": "https://localhost:8080/",
          "height": 357
        },
        "id": "x9JvrbCVlsvN",
        "outputId": "2febd2fe-654b-4aec-cb68-efe845aaa7ad"
      },
      "execution_count": null,
      "outputs": [
        {
          "output_type": "stream",
          "name": "stdout",
          "text": [
            "The layers and the neurons per those layers (layer no: no. of neurons): {1: 8, 2: 25, 3: 1}\n",
            "Wights and Biases for each layer generated Succesfully\n",
            "completed 14999 iterations\n",
            "Train data R2 score  is 0.3829125317953006\n",
            "Test data R2 score is 0.2959587532629858\n"
          ]
        },
        {
          "output_type": "display_data",
          "data": {
            "text/plain": [
              "<Figure size 432x288 with 1 Axes>"
            ],
            "image/png": "[encoded data removed]"
          },
          "metadata": {
            "needs_background": "light"
          }
        }
      ]
    },
    {
      "cell_type": "markdown",
      "source": [
        "structure 3: 50 neurons in one hidden layer"
      ],
      "metadata": {
        "id": "Drf01nMKsFbX"
      }
    },
    {
      "cell_type": "code",
      "source": [
        "l = list([50,1])\n",
        "layer_dict, w_dict, b_dict = initialize(X, Y, l )\n",
        "\n",
        "#print(b_dict[4]),\n",
        "\n",
        "epoch = 15000\n",
        "loss_bce = []\n",
        "for i in range(epoch):\n",
        "  w_dict, b_dict, y_hat = looping(X, Y, w_dict, b_dict, n_layers = len(l), alpha = 0.001)\n",
        "  #print(b_dict[4].shape)\n",
        "  loss = (sum(-Y*np.log(y_hat) - (1-Y)*np.log(1-y_hat)))\n",
        "  loss_bce.append(loss)\n",
        "print(f'completed {i} iterations')\n",
        "import matplotlib.pyplot as plt\n",
        "plt.figure\n",
        "plt.plot(loss_bce)\n",
        "\n",
        "#print(f'The predictions are:\\n {y_bin}')\n",
        "# Accuracy\n",
        "\n",
        "y_pred_tr = prediction(x_train_n, y_train_n, w_dict, b_dict)\n",
        "print (f'Train data R2 score  is {R2(y_pred_tr, Y )}')\n",
        "\n",
        "\n",
        "\n",
        "y_predicted_te = prediction(x_test_n, y_test_n, w_dict, b_dict)\n",
        "\n",
        "print(f'Test data R2 score is {R2(y_predicted_te, y_test_n)}')"
      ],
      "metadata": {
        "colab": {
          "base_uri": "https://localhost:8080/",
          "height": 357
        },
        "id": "-bjw_uPFqf5m",
        "outputId": "ab2f7078-e210-4d57-ac41-4b3861c0ed6d"
      },
      "execution_count": null,
      "outputs": [
        {
          "output_type": "stream",
          "name": "stdout",
          "text": [
            "The layers and the neurons per those layers (layer no: no. of neurons): {1: 8, 2: 50, 3: 1}\n",
            "Wights and Biases for each layer generated Succesfully\n",
            "completed 14999 iterations\n",
            "Train data R2 score  is -0.4709749639964196\n",
            "Test data R2 score is -0.6082071156408067\n"
          ]
        },
        {
          "output_type": "display_data",
          "data": {
            "text/plain": [
              "<Figure size 432x288 with 1 Axes>"
            ],
            "image/png": "[encoded data removed]"
          },
          "metadata": {
            "needs_background": "light"
          }
        }
      ]
    },
    {
      "cell_type": "markdown",
      "source": [
        "8 - 25 - 8- 1 "
      ],
      "metadata": {
        "id": "Z7GCiIf1sFLG"
      }
    },
    {
      "cell_type": "code",
      "source": [
        "l = list([25, 8, 1])\n",
        "layer_dict, w_dict, b_dict = initialize(X, Y, l )\n",
        "\n",
        "#print(b_dict[4]),\n",
        "\n",
        "epoch = 35000\n",
        "loss_bce = []\n",
        "for i in range(epoch):\n",
        "  w_dict, b_dict, y_hat = looping(X, Y, w_dict, b_dict, n_layers = len(l), alpha = 0.001)\n",
        "  #print(b_dict[4].shape)\n",
        "  loss = (sum(-Y*np.log(y_hat) - (1-Y)*np.log(1-y_hat)))\n",
        "  loss_bce.append(loss)\n",
        "print(f'completed {i} iterations')\n",
        "import matplotlib.pyplot as plt\n",
        "plt.figure\n",
        "plt.plot(loss_bce)\n",
        "\n",
        "#print(f'The predictions are:\\n {y_bin}')\n",
        "# Accuracy\n",
        "\n",
        "y_pred_tr = prediction(x_train_n, y_train_n, w_dict, b_dict)\n",
        "print (f'Train data R2 score  is {R2(y_pred_tr, Y )}')\n",
        "\n",
        "\n",
        "\n",
        "y_predicted_te = prediction(x_test_n, y_test_n, w_dict, b_dict)\n",
        "\n",
        "print(f'Test data R2 score is {R2(y_predicted_te, y_test_n)}')"
      ],
      "metadata": {
        "colab": {
          "base_uri": "https://localhost:8080/",
          "height": 357
        },
        "id": "te9Vkpvhl9yd",
        "outputId": "51023102-7170-430a-d8d7-89b9bea9fc5c"
      },
      "execution_count": null,
      "outputs": [
        {
          "output_type": "stream",
          "name": "stdout",
          "text": [
            "The layers and the neurons per those layers (layer no: no. of neurons): {1: 8, 2: 25, 3: 8, 4: 1}\n",
            "Wights and Biases for each layer generated Succesfully\n",
            "completed 34999 iterations\n",
            "Train data R2 score  is 0.2951174677599633\n",
            "Test data R2 score is 0.21250686600861435\n"
          ]
        },
        {
          "output_type": "display_data",
          "data": {
            "text/plain": [
              "<Figure size 432x288 with 1 Axes>"
            ],
            "image/png": "[encoded data removed]"
          },
          "metadata": {
            "needs_background": "light"
          }
        }
      ]
    },
    {
      "cell_type": "code",
      "source": [
        "l = list([25, 8,4, 1])\n",
        "layer_dict, w_dict, b_dict = initialize(X, Y, l )\n",
        "\n",
        "#print(b_dict[4]),\n",
        "\n",
        "epoch = 15000\n",
        "loss_bce = []\n",
        "for i in range(epoch):\n",
        "  w_dict, b_dict, y_hat = looping(X, Y, w_dict, b_dict, n_layers = len(l), alpha = 0.001)\n",
        "  #print(b_dict[4].shape)\n",
        "  loss = (sum(-Y*np.log(y_hat) - (1-Y)*np.log(1-y_hat)))\n",
        "  loss_bce.append(loss)\n",
        "print(f'completed {i} iterations')\n",
        "import matplotlib.pyplot as plt\n",
        "plt.figure\n",
        "plt.plot(loss_bce)\n",
        "\n",
        "#print(f'The predictions are:\\n {y_bin}')\n",
        "# Accuracy\n",
        "\n",
        "y_pred_tr = prediction(x_train_n, y_train_n, w_dict, b_dict)\n",
        "print (f'Train data R2 score  is {R2(y_pred_tr, Y )}')\n",
        "\n",
        "\n",
        "\n",
        "y_predicted_te = prediction(x_test_n, y_test_n, w_dict, b_dict)\n",
        "\n",
        "print(f'Test data R2 score is {R2(y_predicted_te, y_test_n)}')"
      ],
      "metadata": {
        "colab": {
          "base_uri": "https://localhost:8080/",
          "height": 357
        },
        "id": "l1qq0RC1tL_Q",
        "outputId": "49205598-1eae-4416-f7cf-1b5061142b17"
      },
      "execution_count": null,
      "outputs": [
        {
          "output_type": "stream",
          "name": "stdout",
          "text": [
            "The layers and the neurons per those layers (layer no: no. of neurons): {1: 8, 2: 25, 3: 8, 4: 4, 5: 1}\n",
            "Wights and Biases for each layer generated Succesfully\n",
            "completed 14999 iterations\n",
            "Train data R2 score  is -2.8847212252234105\n",
            "Test data R2 score is -2.942565133477845\n"
          ]
        },
        {
          "output_type": "display_data",
          "data": {
            "text/plain": [
              "<Figure size 432x288 with 1 Axes>"
            ],
            "image/png": "[encoded data removed]"
          },
          "metadata": {
            "needs_background": "light"
          }
        }
      ]
    },
    {
      "cell_type": "markdown",
      "source": [
        "**2d: Part2: Pytorch Implementation**"
      ],
      "metadata": {
        "id": "9yE5diNbtWYf"
      }
    },
    {
      "cell_type": "code",
      "source": [
        "import torch\n",
        "import math\n",
        "import torch.nn as nn\n",
        "import pandas as pd\n",
        "from sklearn.model_selection import train_test_split\n",
        "from sklearn.metrics import r2_score as R2\n",
        "from sklearn.metrics import accuracy_score as ACC\n"
      ],
      "metadata": {
        "id": "RS7HPR8btWYf"
      },
      "execution_count": 24,
      "outputs": []
    },
    {
      "cell_type": "code",
      "source": [
        "df = pd.read_excel(\"Concrete_Data.xls\")\n",
        "df.head(2)"
      ],
      "metadata": {
        "colab": {
          "base_uri": "https://localhost:8080/",
          "height": 191
        },
        "outputId": "c877a95d-1e1c-439f-fdba-bace62de5ac0",
        "id": "7nwRmsmRtWYf"
      },
      "execution_count": 25,
      "outputs": [
        {
          "output_type": "execute_result",
          "data": {
            "text/plain": [
              "   Cement (component 1)(kg in a m^3 mixture)  \\\n",
              "0                                      540.0   \n",
              "1                                      540.0   \n",
              "\n",
              "   Blast Furnace Slag (component 2)(kg in a m^3 mixture)  \\\n",
              "0                                                0.0       \n",
              "1                                                0.0       \n",
              "\n",
              "   Fly Ash (component 3)(kg in a m^3 mixture)  \\\n",
              "0                                         0.0   \n",
              "1                                         0.0   \n",
              "\n",
              "   Water  (component 4)(kg in a m^3 mixture)  \\\n",
              "0                                      162.0   \n",
              "1                                      162.0   \n",
              "\n",
              "   Superplasticizer (component 5)(kg in a m^3 mixture)  \\\n",
              "0                                                2.5     \n",
              "1                                                2.5     \n",
              "\n",
              "   Coarse Aggregate  (component 6)(kg in a m^3 mixture)  \\\n",
              "0                                             1040.0      \n",
              "1                                             1055.0      \n",
              "\n",
              "   Fine Aggregate (component 7)(kg in a m^3 mixture)  Age (day)  \\\n",
              "0                                              676.0         28   \n",
              "1                                              676.0         28   \n",
              "\n",
              "   Concrete compressive strength(MPa, megapascals)   \n",
              "0                                         79.986111  \n",
              "1                                         61.887366  "
            ],
            "text/html": [
              "\n",
              "  <div id=\"df-ba265fba-89c9-42ee-b26d-081085b78b01\">\n",
              "    <div class=\"colab-df-container\">\n",
              "      <div>\n",
              "<style scoped>\n",
              "    .dataframe tbody tr th:only-of-type {\n",
              "        vertical-align: middle;\n",
              "    }\n",
              "\n",
              "    .dataframe tbody tr th {\n",
              "        vertical-align: top;\n",
              "    }\n",
              "\n",
              "    .dataframe thead th {\n",
              "        text-align: right;\n",
              "    }\n",
              "</style>\n",
              "<table border=\"1\" class=\"dataframe\">\n",
              "  <thead>\n",
              "    <tr style=\"text-align: right;\">\n",
              "      <th></th>\n",
              "      <th>Cement (component 1)(kg in a m^3 mixture)</th>\n",
              "      <th>Blast Furnace Slag (component 2)(kg in a m^3 mixture)</th>\n",
              "      <th>Fly Ash (component 3)(kg in a m^3 mixture)</th>\n",
              "      <th>Water  (component 4)(kg in a m^3 mixture)</th>\n",
              "      <th>Superplasticizer (component 5)(kg in a m^3 mixture)</th>\n",
              "      <th>Coarse Aggregate  (component 6)(kg in a m^3 mixture)</th>\n",
              "      <th>Fine Aggregate (component 7)(kg in a m^3 mixture)</th>\n",
              "      <th>Age (day)</th>\n",
              "      <th>Concrete compressive strength(MPa, megapascals)</th>\n",
              "    </tr>\n",
              "  </thead>\n",
              "  <tbody>\n",
              "    <tr>\n",
              "      <th>0</th>\n",
              "      <td>540.0</td>\n",
              "      <td>0.0</td>\n",
              "      <td>0.0</td>\n",
              "      <td>162.0</td>\n",
              "      <td>2.5</td>\n",
              "      <td>1040.0</td>\n",
              "      <td>676.0</td>\n",
              "      <td>28</td>\n",
              "      <td>79.986111</td>\n",
              "    </tr>\n",
              "    <tr>\n",
              "      <th>1</th>\n",
              "      <td>540.0</td>\n",
              "      <td>0.0</td>\n",
              "      <td>0.0</td>\n",
              "      <td>162.0</td>\n",
              "      <td>2.5</td>\n",
              "      <td>1055.0</td>\n",
              "      <td>676.0</td>\n",
              "      <td>28</td>\n",
              "      <td>61.887366</td>\n",
              "    </tr>\n",
              "  </tbody>\n",
              "</table>\n",
              "</div>\n",
              "      <button class=\"colab-df-convert\" onclick=\"convertToInteractive('df-ba265fba-89c9-42ee-b26d-081085b78b01')\"\n",
              "              title=\"Convert this dataframe to an interactive table.\"\n",
              "              style=\"display:none;\">\n",
              "        \n",
              "  <svg xmlns=\"http://www.w3.org/2000/svg\" height=\"24px\"viewBox=\"0 0 24 24\"\n",
              "       width=\"24px\">\n",
              "    <path d=\"M0 0h24v24H0V0z\" fill=\"none\"/>\n",
              "    <path d=\"M18.56 5.44l.94 2.06.94-2.06 2.06-.94-2.06-.94-.94-2.06-.94 2.06-2.06.94zm-11 1L8.5 8.5l.94-2.06 2.06-.94-2.06-.94L8.5 2.5l-.94 2.06-2.06.94zm10 10l.94 2.06.94-2.06 2.06-.94-2.06-.94-.94-2.06-.94 2.06-2.06.94z\"/><path d=\"M17.41 7.96l-1.37-1.37c-.4-.4-.92-.59-1.43-.59-.52 0-1.04.2-1.43.59L10.3 9.45l-7.72 7.72c-.78.78-.78 2.05 0 2.83L4 21.41c.39.39.9.59 1.41.59.51 0 1.02-.2 1.41-.59l7.78-7.78 2.81-2.81c.8-.78.8-2.07 0-2.86zM5.41 20L4 18.59l7.72-7.72 1.47 1.35L5.41 20z\"/>\n",
              "  </svg>\n",
              "      </button>\n",
              "      \n",
              "  <style>\n",
              "    .colab-df-container {\n",
              "      display:flex;\n",
              "      flex-wrap:wrap;\n",
              "      gap: 12px;\n",
              "    }\n",
              "\n",
              "    .colab-df-convert {\n",
              "      background-color: #E8F0FE;\n",
              "      border: none;\n",
              "      border-radius: 50%;\n",
              "      cursor: pointer;\n",
              "      display: none;\n",
              "      fill: #1967D2;\n",
              "      height: 32px;\n",
              "      padding: 0 0 0 0;\n",
              "      width: 32px;\n",
              "    }\n",
              "\n",
              "    .colab-df-convert:hover {\n",
              "      background-color: #E2EBFA;\n",
              "      box-shadow: 0px 1px 2px rgba(60, 64, 67, 0.3), 0px 1px 3px 1px rgba(60, 64, 67, 0.15);\n",
              "      fill: #174EA6;\n",
              "    }\n",
              "\n",
              "    [theme=dark] .colab-df-convert {\n",
              "      background-color: #3B4455;\n",
              "      fill: #D2E3FC;\n",
              "    }\n",
              "\n",
              "    [theme=dark] .colab-df-convert:hover {\n",
              "      background-color: #434B5C;\n",
              "      box-shadow: 0px 1px 3px 1px rgba(0, 0, 0, 0.15);\n",
              "      filter: drop-shadow(0px 1px 2px rgba(0, 0, 0, 0.3));\n",
              "      fill: #FFFFFF;\n",
              "    }\n",
              "  </style>\n",
              "\n",
              "      <script>\n",
              "        const buttonEl =\n",
              "          document.querySelector('#df-ba265fba-89c9-42ee-b26d-081085b78b01 button.colab-df-convert');\n",
              "        buttonEl.style.display =\n",
              "          google.colab.kernel.accessAllowed ? 'block' : 'none';\n",
              "\n",
              "        async function convertToInteractive(key) {\n",
              "          const element = document.querySelector('#df-ba265fba-89c9-42ee-b26d-081085b78b01');\n",
              "          const dataTable =\n",
              "            await google.colab.kernel.invokeFunction('convertToInteractive',\n",
              "                                                     [key], {});\n",
              "          if (!dataTable) return;\n",
              "\n",
              "          const docLinkHtml = 'Like what you see? Visit the ' +\n",
              "            '<a target=\"_blank\" href=https://colab.research.google.com/notebooks/data_table.ipynb>data table notebook</a>'\n",
              "            + ' to learn more about interactive tables.';\n",
              "          element.innerHTML = '';\n",
              "          dataTable['output_type'] = 'display_data';\n",
              "          await google.colab.output.renderOutput(dataTable, element);\n",
              "          const docLink = document.createElement('div');\n",
              "          docLink.innerHTML = docLinkHtml;\n",
              "          element.appendChild(docLink);\n",
              "        }\n",
              "      </script>\n",
              "    </div>\n",
              "  </div>\n",
              "  "
            ]
          },
          "metadata": {},
          "execution_count": 25
        }
      ]
    },
    {
      "cell_type": "code",
      "source": [
        "dataset = df\n",
        "normalized_dataset = dataset.apply(lambda val: (val -val.min())/(val.max() - val.min()), axis = 0)          \n",
        "\n",
        "x_n = normalized_dataset.iloc[:,:-1].values\n",
        "y_n = normalized_dataset.iloc[:,-1].values"
      ],
      "metadata": {
        "id": "I4EMyaq3tWYg"
      },
      "execution_count": 26,
      "outputs": []
    },
    {
      "cell_type": "code",
      "source": [
        "\n",
        "x_train_n, x_test_n, y_train_n, y_test_n = train_test_split(x_n, y_n, test_size=0.4, random_state=4, stratify = None)\n",
        "m, n = x_train_n.shape\n",
        "\n",
        "y_train_n = y_train_n.reshape(m, 1 )\n",
        "\n",
        "x_train_nt = torch.tensor(x_train_n, dtype = torch.float32)\n",
        "y_train_nt = torch.tensor(y_train_n, dtype = torch.float32)\n",
        "\n"
      ],
      "metadata": {
        "id": "RovgpWEAtWYg"
      },
      "execution_count": 27,
      "outputs": []
    },
    {
      "cell_type": "code",
      "source": [
        "n_input, n_hidden, n_out, batch_size, learning_rate = 8, 25, 1, 64, 0.001\n",
        "model_d = nn.Sequential(nn.Linear(n_input, n_hidden),\n",
        "                      nn.Sigmoid(),\n",
        "                      nn.Linear(n_hidden, n_out),\n",
        "                      nn.Sigmoid())\n",
        "print(model_d)"
      ],
      "metadata": {
        "colab": {
          "base_uri": "https://localhost:8080/"
        },
        "outputId": "0eee1857-aebe-4cf0-a73f-57f259ed13cf",
        "id": "LfdTYdsTtvyk"
      },
      "execution_count": 41,
      "outputs": [
        {
          "output_type": "stream",
          "name": "stdout",
          "text": [
            "Sequential(\n",
            "  (0): Linear(in_features=8, out_features=25, bias=True)\n",
            "  (1): Sigmoid()\n",
            "  (2): Linear(in_features=25, out_features=1, bias=True)\n",
            "  (3): Sigmoid()\n",
            ")\n"
          ]
        }
      ]
    },
    {
      "cell_type": "code",
      "source": [
        "loss_function = nn.MSELoss()\n",
        "optimizer = torch.optim.SGD(model.parameters(), lr=learning_rate)\n",
        "losses = []\n",
        "for epoch in range(200):\n",
        "    pred_y = model_d(x_train_nt)\n",
        "    loss = loss_function(pred_y, y_train_nt)\n",
        "    losses.append(loss.item())\n",
        "\n",
        "    model_d.zero_grad()\n",
        "    loss.backward()\n",
        "\n",
        "    optimizer.step()"
      ],
      "metadata": {
        "id": "9Wif-Kkvtvyk"
      },
      "execution_count": 42,
      "outputs": []
    },
    {
      "cell_type": "code",
      "source": [
        "y_pr = pred_y.detach().numpy()\n",
        "\n",
        "\n",
        "plt.plot(losses)\n",
        "plt.ylabel('loss')\n",
        "plt.xlabel('epoch')\n",
        "plt.title(\"Learning rate %f\"%(learning_rate))\n",
        "plt.show()\n",
        "\n",
        "(f'The accuracy of is {R2(y_train_n, y_pr)}')"
      ],
      "metadata": {
        "colab": {
          "base_uri": "https://localhost:8080/",
          "height": 314
        },
        "outputId": "eea35c89-c1f5-4c78-8dbd-04addb3fbcef",
        "id": "nczaQ7I_tvyl"
      },
      "execution_count": 43,
      "outputs": [
        {
          "output_type": "display_data",
          "data": {
            "text/plain": [
              "<Figure size 432x288 with 1 Axes>"
            ],
            "image/png": "[encoded data removed]"
          },
          "metadata": {
            "needs_background": "light"
          }
        },
        {
          "output_type": "execute_result",
          "data": {
            "text/plain": [
              "'The accuracy of is -0.004836299632164476'"
            ],
            "application/vnd.google.colaboratory.intrinsic+json": {
              "type": "string"
            }
          },
          "metadata": {},
          "execution_count": 43
        }
      ]
    },
    {
      "cell_type": "markdown",
      "source": [
        "**2 hidden layers**\n"
      ],
      "metadata": {
        "id": "DQt9P1vtwmws"
      }
    },
    {
      "cell_type": "code",
      "source": [
        "n_input, n_hidden_1, n_hidden_2, n_out, batch_size, learning_rate = 8, 25, 64, 1, 10, 0.01\n",
        "\n",
        "model_1 = nn.Sequential(nn.Linear(n_input, n_hidden),\n",
        "                      nn.Sigmoid(),\n",
        "                      nn.Linear(n_hidden_1, n_hidden_2),\n",
        "                      nn.Sigmoid(),\n",
        "                      nn.Linear(n_hidden_2, n_out),\n",
        "                      nn.Sigmoid())\n",
        "print(model_1)"
      ],
      "metadata": {
        "colab": {
          "base_uri": "https://localhost:8080/"
        },
        "id": "6kdqEVWitvyl",
        "outputId": "43aa6cb6-7079-40bd-f7fa-33414fddb4d4"
      },
      "execution_count": 45,
      "outputs": [
        {
          "output_type": "stream",
          "name": "stdout",
          "text": [
            "Sequential(\n",
            "  (0): Linear(in_features=8, out_features=25, bias=True)\n",
            "  (1): Sigmoid()\n",
            "  (2): Linear(in_features=25, out_features=64, bias=True)\n",
            "  (3): Sigmoid()\n",
            "  (4): Linear(in_features=64, out_features=1, bias=True)\n",
            "  (5): Sigmoid()\n",
            ")\n"
          ]
        }
      ]
    },
    {
      "cell_type": "code",
      "source": [
        "loss_function = nn.MSELoss()\n",
        "optimizer = torch.optim.SGD(model.parameters(), lr=learning_rate)"
      ],
      "metadata": {
        "id": "ub0hAMgCtvyl"
      },
      "execution_count": 38,
      "outputs": []
    },
    {
      "cell_type": "code",
      "source": [
        "losses = []\n",
        "for epoch in range(200000):\n",
        "    pred_y = model_1(x_train_nt)\n",
        "    loss = loss_function(pred_y, y_train_nt)\n",
        "    losses.append(loss.item())\n",
        "\n",
        "    model_1.zero_grad()\n",
        "    loss.backward()\n",
        "\n",
        "    optimizer.step()"
      ],
      "metadata": {
        "id": "7GCxzHEWtvyl"
      },
      "execution_count": 46,
      "outputs": []
    },
    {
      "cell_type": "code",
      "source": [
        "y_pr = pred_y.detach().numpy()\n",
        "\n",
        "\n",
        "(f'The accuracy of is {R2(y_train_n, y_pr)}')\n"
      ],
      "metadata": {
        "colab": {
          "base_uri": "https://localhost:8080/",
          "height": 36
        },
        "outputId": "66d1c359-2b36-4527-92d8-4503a2e5c821",
        "id": "qMf7tuAbtvyl"
      },
      "execution_count": 47,
      "outputs": [
        {
          "output_type": "execute_result",
          "data": {
            "text/plain": [
              "'The accuracy of is -0.38585752940190177'"
            ],
            "application/vnd.google.colaboratory.intrinsic+json": {
              "type": "string"
            }
          },
          "metadata": {},
          "execution_count": 47
        }
      ]
    },
    {
      "cell_type": "code",
      "source": [
        "n_input, n_hidden_1, n_hidden_2,n_hidden_3, n_out, batch_size, learning_rate = 8, 25, 64,64,1, 10, 0.01\n",
        "\n",
        "model_2 = nn.Sequential(nn.Linear(n_input, n_hidden),\n",
        "                      nn.Sigmoid(),\n",
        "                      nn.Linear(n_hidden_1, n_hidden_2),\n",
        "                      nn.Sigmoid(),\n",
        "                      nn.Linear(n_hidden_2, n_hidden_3),\n",
        "                      nn.Sigmoid(),\n",
        "                      nn.Linear(n_hidden_3, n_out),\n",
        "                      nn.Sigmoid())\n",
        "print(model_2)"
      ],
      "metadata": {
        "colab": {
          "base_uri": "https://localhost:8080/"
        },
        "outputId": "35661601-8e42-46f1-aa5e-e3547a850f54",
        "id": "voDvVSDkyy8c"
      },
      "execution_count": 48,
      "outputs": [
        {
          "output_type": "stream",
          "name": "stdout",
          "text": [
            "Sequential(\n",
            "  (0): Linear(in_features=8, out_features=25, bias=True)\n",
            "  (1): Sigmoid()\n",
            "  (2): Linear(in_features=25, out_features=64, bias=True)\n",
            "  (3): Sigmoid()\n",
            "  (4): Linear(in_features=64, out_features=64, bias=True)\n",
            "  (5): Sigmoid()\n",
            "  (6): Linear(in_features=64, out_features=1, bias=True)\n",
            "  (7): Sigmoid()\n",
            ")\n"
          ]
        }
      ]
    },
    {
      "cell_type": "code",
      "source": [
        "loss_function = nn.MSELoss()\n",
        "optimizer = torch.optim.SGD(model.parameters(), lr=learning_rate)"
      ],
      "metadata": {
        "id": "Ni_XKUF-yy8c"
      },
      "execution_count": 49,
      "outputs": []
    },
    {
      "cell_type": "code",
      "source": [
        "losses = []\n",
        "for epoch in range(20000):\n",
        "    pred_y = model_2(x_train_nt)\n",
        "    loss = loss_function(pred_y, y_train_nt)\n",
        "    losses.append(loss.item())\n",
        "\n",
        "    model_2.zero_grad()\n",
        "    loss.backward()\n",
        "\n",
        "    optimizer.step()"
      ],
      "metadata": {
        "id": "2lMkGSrtyy8c"
      },
      "execution_count": 50,
      "outputs": []
    },
    {
      "cell_type": "code",
      "source": [
        "y_pr = pred_y.detach().numpy()\n",
        "\n",
        "\n",
        "(f'The accuracy of is {R2(y_train_n, y_pr)}')\n"
      ],
      "metadata": {
        "colab": {
          "base_uri": "https://localhost:8080/",
          "height": 36
        },
        "id": "jVNnxTVzyy8c",
        "outputId": "0061d093-fd86-45ff-c1cb-104ce77b7b31"
      },
      "execution_count": 51,
      "outputs": [
        {
          "output_type": "execute_result",
          "data": {
            "text/plain": [
              "'The accuracy of is -0.05909866716033063'"
            ],
            "application/vnd.google.colaboratory.intrinsic+json": {
              "type": "string"
            }
          },
          "metadata": {},
          "execution_count": 51
        }
      ]
    },
    {
      "cell_type": "markdown",
      "source": [
        "observations:\n",
        "\n",
        "1. increasing the number of hidden layers did not improve the model much.\n",
        "\n",
        "2. but it cannot be said for sure that increasing the number of hidden layers will not improve the performance as it might take a lot of trial and error to arrive at a better combination of number of hidden layers and the neurons in these layers.\n",
        "\n",
        "3. with the above implementation of pytorch, it can be seen that more number of iterations are required to gain good performance of the model.\n",
        "\n",
        "4. 2 hidden layers with 25 and 8 neurons respectively and 3 hidden layers with 25 , 64 , 64 neurons in hidden layers respectively were used to observe the performance of the model, but this performance did not improve the performance.\n",
        "\n",
        "5. also, increasing the number of neurons in hidden layer (depth) was found to improve the performance more than increasing the width of the model."
      ],
      "metadata": {
        "id": "ZIn_6SWDyy8d"
      }
    }
  ],
  "metadata": {
    "kernelspec": {
      "display_name": "base",
      "language": "python",
      "name": "python3"
    },
    "language_info": {
      "codemirror_mode": {
        "name": "ipython",
        "version": 3
      },
      "file_extension": ".py",
      "mimetype": "text/x-python",
      "name": "python",
      "nbconvert_exporter": "python",
      "pygments_lexer": "ipython3",
      "version": "3.8.8"
    },
    "orig_nbformat": 4,
    "colab": {
      "provenance": []
    }
  },
  "nbformat": 4,
  "nbformat_minor": 0
}