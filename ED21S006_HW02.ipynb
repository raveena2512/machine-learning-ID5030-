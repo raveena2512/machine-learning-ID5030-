{
  "nbformat": 4,
  "nbformat_minor": 0,
  "metadata": {
    "colab": {
      "provenance": []
    },
    "kernelspec": {
      "name": "python3",
      "display_name": "Python 3"
    },
    "language_info": {
      "name": "python"
    }
  },
  "cells": [
    {
      "cell_type": "code",
      "execution_count": 71,
      "metadata": {
        "id": "OzOVp0qQq72u"
      },
      "outputs": [],
      "source": [
        "import pandas as pd\n",
        "import numpy as np\n",
        "\n",
        "df = pd.read_excel('/content/Concrete_Data.xls')"
      ]
    },
    {
      "cell_type": "code",
      "source": [
        "x = df.iloc[:,:-1].values\n",
        "y = df.iloc[:,-1].values\n",
        "\n",
        "print(x.shape, y.shape)"
      ],
      "metadata": {
        "colab": {
          "base_uri": "https://localhost:8080/"
        },
        "id": "_KN04VtPrTwe",
        "outputId": "f072b157-8d1d-49de-ae41-d56a9907d453"
      },
      "execution_count": 72,
      "outputs": [
        {
          "output_type": "stream",
          "name": "stdout",
          "text": [
            "(1030, 8) (1030,)\n"
          ]
        }
      ]
    },
    {
      "cell_type": "code",
      "source": [
        "from sklearn.model_selection import train_test_split"
      ],
      "metadata": {
        "id": "V3I2ZHGnr1RD"
      },
      "execution_count": 73,
      "outputs": []
    },
    {
      "cell_type": "markdown",
      "source": [
        "##splitting the data into train test dataset with the same distribution as of assignment 1 "
      ],
      "metadata": {
        "id": "SzMXDWO82Ahy"
      }
    },
    {
      "cell_type": "code",
      "source": [
        "x_train1, x_test1, y_train, y_test = train_test_split(x,y, test_size = 0.30, random_state = 21, stratify= None)"
      ],
      "metadata": {
        "id": "En0fs7dxsJRQ"
      },
      "execution_count": 74,
      "outputs": []
    },
    {
      "cell_type": "code",
      "source": [
        "x_train1"
      ],
      "metadata": {
        "colab": {
          "base_uri": "https://localhost:8080/"
        },
        "id": "vEk4TenksL2n",
        "outputId": "0a013502-e3bc-4f02-de99-2939788319ec"
      },
      "execution_count": 75,
      "outputs": [
        {
          "output_type": "execute_result",
          "data": {
            "text/plain": [
              "array([[ 190.34,    0.  ,  125.18, ..., 1079.  ,  798.9 ,  100.  ],\n",
              "       [ 289.  ,    0.  ,    0.  , ...,  913.2 ,  895.3 ,   90.  ],\n",
              "       [ 194.68,    0.  ,  100.52, ...,  998.  ,  901.8 ,   14.  ],\n",
              "       ...,\n",
              "       [ 237.5 ,  237.5 ,    0.  , ...,  932.  ,  594.  ,    7.  ],\n",
              "       [ 382.  ,    0.  ,    0.  , ..., 1047.  ,  739.  ,    7.  ],\n",
              "       [ 266.2 ,  112.3 ,   87.5 , ...,  909.7 ,  744.5 ,   28.  ]])"
            ]
          },
          "metadata": {},
          "execution_count": 75
        }
      ]
    },
    {
      "cell_type": "code",
      "source": [
        "x_train1[0]"
      ],
      "metadata": {
        "colab": {
          "base_uri": "https://localhost:8080/"
        },
        "id": "FXFhF522K_a3",
        "outputId": "6177e6a9-6438-47b0-fa2f-823ab1a1f14d"
      },
      "execution_count": 76,
      "outputs": [
        {
          "output_type": "execute_result",
          "data": {
            "text/plain": [
              "array([ 190.34,    0.  ,  125.18,  166.61,    9.88, 1079.  ,  798.9 ,\n",
              "        100.  ])"
            ]
          },
          "metadata": {},
          "execution_count": 76
        }
      ]
    },
    {
      "cell_type": "code",
      "source": [
        "y_train.shape"
      ],
      "metadata": {
        "colab": {
          "base_uri": "https://localhost:8080/"
        },
        "id": "6SF0eDv9LbYl",
        "outputId": "264d7529-7acd-4433-e377-ee277f9fb66a"
      },
      "execution_count": 77,
      "outputs": [
        {
          "output_type": "execute_result",
          "data": {
            "text/plain": [
              "(721,)"
            ]
          },
          "metadata": {},
          "execution_count": 77
        }
      ]
    },
    {
      "cell_type": "code",
      "source": [
        "x_test1.shape"
      ],
      "metadata": {
        "colab": {
          "base_uri": "https://localhost:8080/"
        },
        "id": "l9664HkxsOtz",
        "outputId": "56404c6d-bdc2-4e2d-89e3-4bc7a15b9e7b"
      },
      "execution_count": 78,
      "outputs": [
        {
          "output_type": "execute_result",
          "data": {
            "text/plain": [
              "(309, 8)"
            ]
          },
          "metadata": {},
          "execution_count": 78
        }
      ]
    },
    {
      "cell_type": "markdown",
      "source": [
        "##Q1. normal equation"
      ],
      "metadata": {
        "id": "fSkaCjiy2XS6"
      }
    },
    {
      "cell_type": "code",
      "source": [
        "#adding bias term\n",
        "x_ = np.ones((len(x_train1),1))\n",
        "x_train = np.append(x_train1, x_, axis = 1)"
      ],
      "metadata": {
        "id": "cCMlgvaB3ANz"
      },
      "execution_count": 79,
      "outputs": []
    },
    {
      "cell_type": "code",
      "source": [
        "x_train.shape"
      ],
      "metadata": {
        "colab": {
          "base_uri": "https://localhost:8080/"
        },
        "id": "WaYth90F4MPE",
        "outputId": "1d0e2be3-869b-4712-cec0-2a3dcdae4a68"
      },
      "execution_count": 80,
      "outputs": [
        {
          "output_type": "execute_result",
          "data": {
            "text/plain": [
              "(721, 9)"
            ]
          },
          "metadata": {},
          "execution_count": 80
        }
      ]
    },
    {
      "cell_type": "code",
      "source": [
        "# adding bias \n",
        "w = np.linalg.inv(x_train.T.dot(x_train)).dot(x_train.T).dot(y_train)\n",
        "w"
      ],
      "metadata": {
        "colab": {
          "base_uri": "https://localhost:8080/"
        },
        "id": "bOE0DUQ6sUCe",
        "outputId": "08520585-88af-4536-f6b5-40f5066e3d60"
      },
      "execution_count": 81,
      "outputs": [
        {
          "output_type": "execute_result",
          "data": {
            "text/plain": [
              "array([ 1.13531204e-01,  9.87911870e-02,  7.74633009e-02, -1.48770754e-01,\n",
              "        3.72006901e-01,  1.38482979e-02,  1.62110814e-02,  1.09648974e-01,\n",
              "       -1.39272794e+01])"
            ]
          },
          "metadata": {},
          "execution_count": 81
        }
      ]
    },
    {
      "cell_type": "code",
      "source": [
        "#predict\n",
        "y_predn = x_train.dot(w)\n",
        "y_predn "
      ],
      "metadata": {
        "id": "j7BUNQL6wBVE"
      },
      "execution_count": null,
      "outputs": []
    },
    {
      "cell_type": "code",
      "source": [
        "from sklearn.metrics import mean_squared_error,r2_score\n",
        "mean_squared_error(y_train, y_predn)"
      ],
      "metadata": {
        "colab": {
          "base_uri": "https://localhost:8080/"
        },
        "id": "ZjePto4cwStm",
        "outputId": "f77813eb-b52f-4b2e-afc8-39314c64863a"
      },
      "execution_count": 83,
      "outputs": [
        {
          "output_type": "execute_result",
          "data": {
            "text/plain": [
              "109.6188499351555"
            ]
          },
          "metadata": {},
          "execution_count": 83
        }
      ]
    },
    {
      "cell_type": "code",
      "source": [
        "r2_score(y_train, y_predn)"
      ],
      "metadata": {
        "colab": {
          "base_uri": "https://localhost:8080/"
        },
        "id": "SFg6bUb2wmGV",
        "outputId": "5e7a9f56-092c-47e0-8dbd-59024e0c8577"
      },
      "execution_count": 84,
      "outputs": [
        {
          "output_type": "execute_result",
          "data": {
            "text/plain": [
              "0.5918957708762256"
            ]
          },
          "metadata": {},
          "execution_count": 84
        }
      ]
    },
    {
      "cell_type": "code",
      "source": [
        "x_ = np.ones((len(x_test1),1))\n",
        "x_test = np.append(x_test1, x_, axis = 1)"
      ],
      "metadata": {
        "id": "KzawtlEl-XHd"
      },
      "execution_count": 85,
      "outputs": []
    },
    {
      "cell_type": "code",
      "source": [
        "y_predte = x_test.dot(w)\n",
        "y_predte "
      ],
      "metadata": {
        "id": "WICtkseY-gAL"
      },
      "execution_count": null,
      "outputs": []
    },
    {
      "cell_type": "code",
      "source": [
        "mean_squared_error(y_test, y_predte)"
      ],
      "metadata": {
        "colab": {
          "base_uri": "https://localhost:8080/"
        },
        "id": "3x3nXq62-pvg",
        "outputId": "75c15147-c2b9-4437-e67f-2fe0add4f95d"
      },
      "execution_count": 87,
      "outputs": [
        {
          "output_type": "execute_result",
          "data": {
            "text/plain": [
              "102.49790694063606"
            ]
          },
          "metadata": {},
          "execution_count": 87
        }
      ]
    },
    {
      "cell_type": "code",
      "source": [
        "r2_score(y_test, y_predte)"
      ],
      "metadata": {
        "colab": {
          "base_uri": "https://localhost:8080/"
        },
        "id": "raDVwP_u_IPE",
        "outputId": "35201da4-2051-4a52-8164-aad0c327de60"
      },
      "execution_count": 88,
      "outputs": [
        {
          "output_type": "execute_result",
          "data": {
            "text/plain": [
              "0.6610280560044763"
            ]
          },
          "metadata": {},
          "execution_count": 88
        }
      ]
    },
    {
      "cell_type": "markdown",
      "source": [
        "##mean squared error:\n",
        "1. using sklearn = 102.49790694063597\n",
        "2. using normal equations = 102.49790694063606\n",
        "\n",
        "## r2 score \n",
        "1. using sklearn = 0.6610280560044766\n",
        "2. using normal equations = 0.6610280560044763\n"
      ],
      "metadata": {
        "id": "sFVEdJSTynon"
      }
    },
    {
      "cell_type": "markdown",
      "source": [
        "##observations using Normal equation method as compared to sklearn linear regression for test data:\n",
        "1. mean square error increased in 12th decimal place which can be neglected.\n",
        "the percentage change is 5.6 *10^-13.\n",
        "2. r2 score decreased with a very very small value (in 14th decimal)  "
      ],
      "metadata": {
        "id": "vBzKrlH_42-Z"
      }
    },
    {
      "cell_type": "code",
      "source": [
        "import matplotlib.pyplot as plt"
      ],
      "metadata": {
        "id": "qCh9Lj-Lw2kP"
      },
      "execution_count": 89,
      "outputs": []
    },
    {
      "cell_type": "markdown",
      "source": [
        "test plot"
      ],
      "metadata": {
        "id": "zH8_WyJt8_3B"
      }
    },
    {
      "cell_type": "code",
      "source": [
        "plt.figure(figsize=[17,8])\n",
        "plt.scatter(y_predte,y_test)\n",
        "plt.plot([y_test.min(), y_test.max()], [y_test.min(), y_test.max()], color='red')\n",
        "plt.xlabel('predicted')\n",
        "plt.ylabel('orignal')\n",
        "plt.show()"
      ],
      "metadata": {
        "colab": {
          "base_uri": "https://localhost:8080/",
          "height": 497
        },
        "id": "rSsOJLFQwtXs",
        "outputId": "b75c1794-dae1-4df9-add9-802632059d7d"
      },
      "execution_count": 90,
      "outputs": [
        {
          "output_type": "display_data",
          "data": {
            "text/plain": [
              "<Figure size 1224x576 with 1 Axes>"
            ],
            "image/png": "[encoded data removed]"
          },
          "metadata": {
            "needs_background": "light"
          }
        }
      ]
    },
    {
      "cell_type": "markdown",
      "source": [
        "train plot"
      ],
      "metadata": {
        "id": "m6xfh5YV9Cxf"
      }
    },
    {
      "cell_type": "code",
      "source": [
        "#plot for training dataset\n",
        "plt.figure(figsize=[17,8])\n",
        "plt.scatter(y_predn,y_train)\n",
        "plt.plot([y_train.min(), y_train.max()], [y_train.min(), y_train.max()], color='red')\n",
        "plt.xlabel('predicted')\n",
        "plt.ylabel('orignal')\n",
        "plt.show()"
      ],
      "metadata": {
        "colab": {
          "base_uri": "https://localhost:8080/",
          "height": 497
        },
        "id": "349ILEBBw6Qk",
        "outputId": "839300a1-ffd3-4e26-a995-ed8a61033115"
      },
      "execution_count": 91,
      "outputs": [
        {
          "output_type": "display_data",
          "data": {
            "text/plain": [
              "<Figure size 1224x576 with 1 Axes>"
            ],
            "image/png": "[encoded data removed]"
          },
          "metadata": {
            "needs_background": "light"
          }
        }
      ]
    },
    {
      "cell_type": "markdown",
      "source": [
        "comparision of obtained test predictions"
      ],
      "metadata": {
        "id": "r8I9Y8fg9MKb"
      }
    },
    {
      "cell_type": "code",
      "source": [
        "x_predict = list(x_test.dot(w))\n",
        "predicted_df = {'predicted_values': x_predict, 'original_values': y_test}\n",
        "#creating new dataframe\n",
        "pd.DataFrame(predicted_df)"
      ],
      "metadata": {
        "colab": {
          "base_uri": "https://localhost:8080/",
          "height": 423
        },
        "id": "_nxnjYISxQ1U",
        "outputId": "3f76ebfe-9ddf-427c-cbc5-e78f9d6e78f6"
      },
      "execution_count": 92,
      "outputs": [
        {
          "output_type": "execute_result",
          "data": {
            "text/plain": [
              "     predicted_values  original_values\n",
              "0           23.178644        23.245191\n",
              "1           17.893638        10.535193\n",
              "2           12.045468         7.839342\n",
              "3           45.365078        39.699339\n",
              "4           46.324371        78.800212\n",
              "..                ...              ...\n",
              "304         36.411069        37.917043\n",
              "305         38.129156        48.718374\n",
              "306         20.687359        35.225329\n",
              "307         54.144392        72.994824\n",
              "308         34.517940        37.810864\n",
              "\n",
              "[309 rows x 2 columns]"
            ],
            "text/html": [
              "\n",
              "  <div id=\"df-7529a37e-7efc-4d07-9159-9d81b268133f\">\n",
              "    <div class=\"colab-df-container\">\n",
              "      <div>\n",
              "<style scoped>\n",
              "    .dataframe tbody tr th:only-of-type {\n",
              "        vertical-align: middle;\n",
              "    }\n",
              "\n",
              "    .dataframe tbody tr th {\n",
              "        vertical-align: top;\n",
              "    }\n",
              "\n",
              "    .dataframe thead th {\n",
              "        text-align: right;\n",
              "    }\n",
              "</style>\n",
              "<table border=\"1\" class=\"dataframe\">\n",
              "  <thead>\n",
              "    <tr style=\"text-align: right;\">\n",
              "      <th></th>\n",
              "      <th>predicted_values</th>\n",
              "      <th>original_values</th>\n",
              "    </tr>\n",
              "  </thead>\n",
              "  <tbody>\n",
              "    <tr>\n",
              "      <th>0</th>\n",
              "      <td>23.178644</td>\n",
              "      <td>23.245191</td>\n",
              "    </tr>\n",
              "    <tr>\n",
              "      <th>1</th>\n",
              "      <td>17.893638</td>\n",
              "      <td>10.535193</td>\n",
              "    </tr>\n",
              "    <tr>\n",
              "      <th>2</th>\n",
              "      <td>12.045468</td>\n",
              "      <td>7.839342</td>\n",
              "    </tr>\n",
              "    <tr>\n",
              "      <th>3</th>\n",
              "      <td>45.365078</td>\n",
              "      <td>39.699339</td>\n",
              "    </tr>\n",
              "    <tr>\n",
              "      <th>4</th>\n",
              "      <td>46.324371</td>\n",
              "      <td>78.800212</td>\n",
              "    </tr>\n",
              "    <tr>\n",
              "      <th>...</th>\n",
              "      <td>...</td>\n",
              "      <td>...</td>\n",
              "    </tr>\n",
              "    <tr>\n",
              "      <th>304</th>\n",
              "      <td>36.411069</td>\n",
              "      <td>37.917043</td>\n",
              "    </tr>\n",
              "    <tr>\n",
              "      <th>305</th>\n",
              "      <td>38.129156</td>\n",
              "      <td>48.718374</td>\n",
              "    </tr>\n",
              "    <tr>\n",
              "      <th>306</th>\n",
              "      <td>20.687359</td>\n",
              "      <td>35.225329</td>\n",
              "    </tr>\n",
              "    <tr>\n",
              "      <th>307</th>\n",
              "      <td>54.144392</td>\n",
              "      <td>72.994824</td>\n",
              "    </tr>\n",
              "    <tr>\n",
              "      <th>308</th>\n",
              "      <td>34.517940</td>\n",
              "      <td>37.810864</td>\n",
              "    </tr>\n",
              "  </tbody>\n",
              "</table>\n",
              "<p>309 rows × 2 columns</p>\n",
              "</div>\n",
              "      <button class=\"colab-df-convert\" onclick=\"convertToInteractive('df-7529a37e-7efc-4d07-9159-9d81b268133f')\"\n",
              "              title=\"Convert this dataframe to an interactive table.\"\n",
              "              style=\"display:none;\">\n",
              "        \n",
              "  <svg xmlns=\"http://www.w3.org/2000/svg\" height=\"24px\"viewBox=\"0 0 24 24\"\n",
              "       width=\"24px\">\n",
              "    <path d=\"M0 0h24v24H0V0z\" fill=\"none\"/>\n",
              "    <path d=\"M18.56 5.44l.94 2.06.94-2.06 2.06-.94-2.06-.94-.94-2.06-.94 2.06-2.06.94zm-11 1L8.5 8.5l.94-2.06 2.06-.94-2.06-.94L8.5 2.5l-.94 2.06-2.06.94zm10 10l.94 2.06.94-2.06 2.06-.94-2.06-.94-.94-2.06-.94 2.06-2.06.94z\"/><path d=\"M17.41 7.96l-1.37-1.37c-.4-.4-.92-.59-1.43-.59-.52 0-1.04.2-1.43.59L10.3 9.45l-7.72 7.72c-.78.78-.78 2.05 0 2.83L4 21.41c.39.39.9.59 1.41.59.51 0 1.02-.2 1.41-.59l7.78-7.78 2.81-2.81c.8-.78.8-2.07 0-2.86zM5.41 20L4 18.59l7.72-7.72 1.47 1.35L5.41 20z\"/>\n",
              "  </svg>\n",
              "      </button>\n",
              "      \n",
              "  <style>\n",
              "    .colab-df-container {\n",
              "      display:flex;\n",
              "      flex-wrap:wrap;\n",
              "      gap: 12px;\n",
              "    }\n",
              "\n",
              "    .colab-df-convert {\n",
              "      background-color: #E8F0FE;\n",
              "      border: none;\n",
              "      border-radius: 50%;\n",
              "      cursor: pointer;\n",
              "      display: none;\n",
              "      fill: #1967D2;\n",
              "      height: 32px;\n",
              "      padding: 0 0 0 0;\n",
              "      width: 32px;\n",
              "    }\n",
              "\n",
              "    .colab-df-convert:hover {\n",
              "      background-color: #E2EBFA;\n",
              "      box-shadow: 0px 1px 2px rgba(60, 64, 67, 0.3), 0px 1px 3px 1px rgba(60, 64, 67, 0.15);\n",
              "      fill: #174EA6;\n",
              "    }\n",
              "\n",
              "    [theme=dark] .colab-df-convert {\n",
              "      background-color: #3B4455;\n",
              "      fill: #D2E3FC;\n",
              "    }\n",
              "\n",
              "    [theme=dark] .colab-df-convert:hover {\n",
              "      background-color: #434B5C;\n",
              "      box-shadow: 0px 1px 3px 1px rgba(0, 0, 0, 0.15);\n",
              "      filter: drop-shadow(0px 1px 2px rgba(0, 0, 0, 0.3));\n",
              "      fill: #FFFFFF;\n",
              "    }\n",
              "  </style>\n",
              "\n",
              "      <script>\n",
              "        const buttonEl =\n",
              "          document.querySelector('#df-7529a37e-7efc-4d07-9159-9d81b268133f button.colab-df-convert');\n",
              "        buttonEl.style.display =\n",
              "          google.colab.kernel.accessAllowed ? 'block' : 'none';\n",
              "\n",
              "        async function convertToInteractive(key) {\n",
              "          const element = document.querySelector('#df-7529a37e-7efc-4d07-9159-9d81b268133f');\n",
              "          const dataTable =\n",
              "            await google.colab.kernel.invokeFunction('convertToInteractive',\n",
              "                                                     [key], {});\n",
              "          if (!dataTable) return;\n",
              "\n",
              "          const docLinkHtml = 'Like what you see? Visit the ' +\n",
              "            '<a target=\"_blank\" href=https://colab.research.google.com/notebooks/data_table.ipynb>data table notebook</a>'\n",
              "            + ' to learn more about interactive tables.';\n",
              "          element.innerHTML = '';\n",
              "          dataTable['output_type'] = 'display_data';\n",
              "          await google.colab.output.renderOutput(dataTable, element);\n",
              "          const docLink = document.createElement('div');\n",
              "          docLink.innerHTML = docLinkHtml;\n",
              "          element.appendChild(docLink);\n",
              "        }\n",
              "      </script>\n",
              "    </div>\n",
              "  </div>\n",
              "  "
            ]
          },
          "metadata": {},
          "execution_count": 92
        }
      ]
    },
    {
      "cell_type": "markdown",
      "source": [
        "##l2_regularization"
      ],
      "metadata": {
        "id": "iijvzcPYvVn5"
      }
    },
    {
      "cell_type": "markdown",
      "source": [
        "## 1. performing ridge regularization with scikit- learn using closed- form solution for linear regression (normal equation) using solver 'cholesky' "
      ],
      "metadata": {
        "id": "lCzjhHB3mORA"
      }
    },
    {
      "cell_type": "markdown",
      "source": [
        "**note**: the l2 regularization in this method carries some approximations"
      ],
      "metadata": {
        "id": "XgxRAKYwo6iP"
      }
    },
    {
      "cell_type": "code",
      "source": [
        "# L2 - Ridge\n",
        "\n",
        "from sklearn.linear_model import Ridge\n",
        "\n",
        "ridgeModel = Ridge(alpha = 0.1, solver = 'cholesky')\n",
        "ridgeModel = ridgeModel.fit(x_train,y_train)\n",
        "predictions_Ridge = ridgeModel.predict(x_test)\n",
        "rmse_Ridge = mean_squared_error(predictions_Ridge,y_test)\n",
        "rmse_Ridge"
      ],
      "metadata": {
        "id": "autFkhMWxp-s",
        "colab": {
          "base_uri": "https://localhost:8080/"
        },
        "outputId": "57bfc0c2-2509-40aa-81ec-5bc2992f5525"
      },
      "execution_count": 93,
      "outputs": [
        {
          "output_type": "execute_result",
          "data": {
            "text/plain": [
              "102.49787903050444"
            ]
          },
          "metadata": {},
          "execution_count": 93
        }
      ]
    },
    {
      "cell_type": "code",
      "source": [
        "# L2 - Ridge\n",
        "\n",
        "from sklearn.linear_model import Ridge\n",
        "\n",
        "ridgeModel = Ridge(alpha = 1, solver = 'cholesky')\n",
        "ridgeModel = ridgeModel.fit(x_train,y_train)\n",
        "predictions_Ridge = ridgeModel.predict(x_test)\n",
        "rmse_Ridge = mean_squared_error(predictions_Ridge,y_test)\n",
        "rmse_Ridge"
      ],
      "metadata": {
        "colab": {
          "base_uri": "https://localhost:8080/"
        },
        "id": "frjsUr4O0vzO",
        "outputId": "30269892-97b4-4016-c769-12fb76d52bf2"
      },
      "execution_count": 94,
      "outputs": [
        {
          "output_type": "execute_result",
          "data": {
            "text/plain": [
              "102.49762789335333"
            ]
          },
          "metadata": {},
          "execution_count": 94
        }
      ]
    },
    {
      "cell_type": "code",
      "source": [
        "# L2 - Ridge\n",
        "\n",
        "from sklearn.linear_model import Ridge\n",
        "\n",
        "ridgeModel = Ridge(alpha = 2.1)\n",
        "ridgeModel = ridgeModel.fit(x_train,y_train)\n",
        "predictions_Ridge = ridgeModel.predict(x_test)\n",
        "rmse_Ridge = mean_squared_error(predictions_Ridge,y_test)\n",
        "\n",
        "print(rmse_Ridge)"
      ],
      "metadata": {
        "colab": {
          "base_uri": "https://localhost:8080/"
        },
        "id": "uDpGhiuH1H5M",
        "outputId": "a5085ea3-bde5-4291-ffa4-fc3863ea2184"
      },
      "execution_count": 95,
      "outputs": [
        {
          "output_type": "stream",
          "name": "stdout",
          "text": [
            "102.49732107997642\n"
          ]
        }
      ]
    },
    {
      "cell_type": "code",
      "source": [
        "# L2 - Ridge\n",
        "\n",
        "from sklearn.linear_model import Ridge\n",
        "\n",
        "ridgeModel = Ridge(alpha = 0.000001)\n",
        "ridgeModel = ridgeModel.fit(x_train,y_train)\n",
        "predictions_Ridge = ridgeModel.predict(x_test)\n",
        "rmse_Ridge = mean_squared_error(predictions_Ridge,y_test)\n",
        "rmse_Ridge\n"
      ],
      "metadata": {
        "colab": {
          "base_uri": "https://localhost:8080/"
        },
        "id": "Yj6dTOUo1Kqe",
        "outputId": "585fbb95-4fb1-486c-e9d5-c18f41058f93"
      },
      "execution_count": 96,
      "outputs": [
        {
          "output_type": "execute_result",
          "data": {
            "text/plain": [
              "102.49790694035688"
            ]
          },
          "metadata": {},
          "execution_count": 96
        }
      ]
    },
    {
      "cell_type": "markdown",
      "source": [
        "## 2. applying l2 regularization analytically on normal equation\n"
      ],
      "metadata": {
        "id": "5pGT3jtmpOzV"
      }
    },
    {
      "cell_type": "code",
      "source": [
        "I = np.identity(9)\n",
        "I"
      ],
      "metadata": {
        "colab": {
          "base_uri": "https://localhost:8080/"
        },
        "id": "28oxo7AKp1Wr",
        "outputId": "7a105fc1-4f92-43a7-8d6c-f574d99b3127"
      },
      "execution_count": 97,
      "outputs": [
        {
          "output_type": "execute_result",
          "data": {
            "text/plain": [
              "array([[1., 0., 0., 0., 0., 0., 0., 0., 0.],\n",
              "       [0., 1., 0., 0., 0., 0., 0., 0., 0.],\n",
              "       [0., 0., 1., 0., 0., 0., 0., 0., 0.],\n",
              "       [0., 0., 0., 1., 0., 0., 0., 0., 0.],\n",
              "       [0., 0., 0., 0., 1., 0., 0., 0., 0.],\n",
              "       [0., 0., 0., 0., 0., 1., 0., 0., 0.],\n",
              "       [0., 0., 0., 0., 0., 0., 1., 0., 0.],\n",
              "       [0., 0., 0., 0., 0., 0., 0., 1., 0.],\n",
              "       [0., 0., 0., 0., 0., 0., 0., 0., 1.]])"
            ]
          },
          "metadata": {},
          "execution_count": 97
        }
      ]
    },
    {
      "cell_type": "code",
      "source": [
        "I"
      ],
      "metadata": {
        "colab": {
          "base_uri": "https://localhost:8080/"
        },
        "id": "MGVYFMySqNfT",
        "outputId": "9ecca2b8-5136-4b13-8b0b-4b494bb9eca9"
      },
      "execution_count": 98,
      "outputs": [
        {
          "output_type": "execute_result",
          "data": {
            "text/plain": [
              "array([[1., 0., 0., 0., 0., 0., 0., 0., 0.],\n",
              "       [0., 1., 0., 0., 0., 0., 0., 0., 0.],\n",
              "       [0., 0., 1., 0., 0., 0., 0., 0., 0.],\n",
              "       [0., 0., 0., 1., 0., 0., 0., 0., 0.],\n",
              "       [0., 0., 0., 0., 1., 0., 0., 0., 0.],\n",
              "       [0., 0., 0., 0., 0., 1., 0., 0., 0.],\n",
              "       [0., 0., 0., 0., 0., 0., 1., 0., 0.],\n",
              "       [0., 0., 0., 0., 0., 0., 0., 1., 0.],\n",
              "       [0., 0., 0., 0., 0., 0., 0., 0., 1.]])"
            ]
          },
          "metadata": {},
          "execution_count": 98
        }
      ]
    },
    {
      "cell_type": "code",
      "source": [
        "k= 0.001\n",
        "I = np.identity(9)\n",
        "I[0,0] = 0.\n",
        "w = np.linalg.inv(x_train.T.dot(x_train) + k*I).dot(x_train.T).dot(y_train)\n",
        "w"
      ],
      "metadata": {
        "colab": {
          "base_uri": "https://localhost:8080/"
        },
        "id": "6_ZLxNQro51e",
        "outputId": "7aa5ce26-6dee-43da-92ee-a27d8b93b123"
      },
      "execution_count": 116,
      "outputs": [
        {
          "output_type": "execute_result",
          "data": {
            "text/plain": [
              "array([  0.11349554,   0.09874909,   0.07741556,  -0.14895035,\n",
              "         0.37184842,   0.0138054 ,   0.01616236,   0.10964716,\n",
              "       -13.79842186])"
            ]
          },
          "metadata": {},
          "execution_count": 116
        }
      ]
    },
    {
      "cell_type": "code",
      "source": [
        "y_predte = x_test.dot(w)\n",
        "y_predte"
      ],
      "metadata": {
        "id": "nAc-0tS2qleR"
      },
      "execution_count": null,
      "outputs": []
    },
    {
      "cell_type": "code",
      "source": [
        "mean_squared_error(y_test, y_predte)"
      ],
      "metadata": {
        "colab": {
          "base_uri": "https://localhost:8080/"
        },
        "id": "MfVMkcgqq0Oo",
        "outputId": "881f4ac6-eecc-49fe-a694-f4c51c23f055"
      },
      "execution_count": 118,
      "outputs": [
        {
          "output_type": "execute_result",
          "data": {
            "text/plain": [
              "102.49910172708303"
            ]
          },
          "metadata": {},
          "execution_count": 118
        }
      ]
    },
    {
      "cell_type": "code",
      "source": [
        "r2_score(y_test, y_predte)"
      ],
      "metadata": {
        "colab": {
          "base_uri": "https://localhost:8080/"
        },
        "id": "_r7jCu4nrFb3",
        "outputId": "ef2beb6d-01c0-442c-ffa1-c49b634e5b0a"
      },
      "execution_count": 119,
      "outputs": [
        {
          "output_type": "execute_result",
          "data": {
            "text/plain": [
              "0.6610241047132092"
            ]
          },
          "metadata": {},
          "execution_count": 119
        }
      ]
    },
    {
      "cell_type": "markdown",
      "source": [
        "note: not considering the value of m in the equation as it is very large and overpowers the minute change that could be seen, also considering m ultimatesly results in hugely increasing the considered value of k to more than 1.\n",
        "the k, considered here is inclusive of all the constants like m."
      ],
      "metadata": {
        "id": "StXhBMqrQK9I"
      }
    },
    {
      "cell_type": "code",
      "source": [
        "k= 0.1\n",
        "I = np.identity(9)\n",
        "I[0,0] = 0.\n",
        "w = np.linalg.inv(x_train.T.dot(x_train) + k*I).dot(x_train.T).dot(y_train)\n",
        "y_predte = x_test.dot(w)\n",
        "print(mean_squared_error(y_test, y_predte), r2_score(y_test, y_predte))"
      ],
      "metadata": {
        "colab": {
          "base_uri": "https://localhost:8080/"
        },
        "id": "f6zuEDo29iZP",
        "outputId": "992c5eb2-9551-447e-83b0-71332a77fa68"
      },
      "execution_count": 112,
      "outputs": [
        {
          "output_type": "stream",
          "name": "stdout",
          "text": [
            "102.56687324446774 0.6607999767901998\n"
          ]
        }
      ]
    },
    {
      "cell_type": "code",
      "source": [
        "k= 10\n",
        "I = np.identity(9)\n",
        "I[0,0] = 0.\n",
        "w = np.linalg.inv(x_train.T.dot(x_train) + k*I).dot(x_train.T).dot(y_train)\n",
        "y_predte = x_test.dot(w)\n",
        "print(mean_squared_error(y_test, y_predte), r2_score(y_test, y_predte))"
      ],
      "metadata": {
        "colab": {
          "base_uri": "https://localhost:8080/"
        },
        "id": "VV47RzGP-G5F",
        "outputId": "f03e1446-4815-4058-f32f-d7a083820186"
      },
      "execution_count": 114,
      "outputs": [
        {
          "output_type": "stream",
          "name": "stdout",
          "text": [
            "102.65084439640702 0.6605222748793803\n"
          ]
        }
      ]
    },
    {
      "cell_type": "code",
      "source": [
        "k= 0.0001\n",
        "I = np.identity(9)\n",
        "I[0,0] = 0.\n",
        "w = np.linalg.inv(x_train.T.dot(x_train) + k*I).dot(x_train.T).dot(y_train)\n",
        "y_predte = x_test.dot(w)\n",
        "print(mean_squared_error(y_test, y_predte), r2_score(y_test, y_predte))"
      ],
      "metadata": {
        "colab": {
          "base_uri": "https://localhost:8080/"
        },
        "id": "pT9FrxC_-W09",
        "outputId": "b7970973-338e-4566-9925-2fd1dd2522c3"
      },
      "execution_count": 120,
      "outputs": [
        {
          "output_type": "stream",
          "name": "stdout",
          "text": [
            "102.49802719810728 0.6610276582996839\n"
          ]
        }
      ]
    },
    {
      "cell_type": "markdown",
      "source": [
        "##observations:\n",
        "1. with decrease in regularization factor, the mse and r2 score are seen to be improving.\n",
        "2. with high value of regularization factor, the mse and r2 score are seen to be worsening.\n",
        "3. with the application of l2 regularization the with k=0.0001 (best out of the trials), mse increased by 6.53 * 10^-5 %\n",
        "4. r2 score decreased by 6.05 * 10^-5 %\n",
        "5. Complex models, like the Random Forest, Neural Networks, and XGBoost are more prone to overfitting. Simpler models, like linear regression typically overfit  when there are more features than the number of instances in the training data. \n",
        "6. in this dataset, the number of features are less than the number of datapoints, so it is less susceptable to overfit. \n",
        "7. this can be a reason that very less change is seen in the mse and r2 score with application of l2 score with normal equation. "
      ],
      "metadata": {
        "id": "DfG0z9Eo-kbD"
      }
    },
    {
      "cell_type": "markdown",
      "source": [
        "## Q-3: quadratic regression"
      ],
      "metadata": {
        "id": "zUNXbFBEr47x"
      }
    },
    {
      "cell_type": "code",
      "source": [
        "x_poly = np.square(x)\n",
        "\n",
        "x_poly1 = np.ones((len(x_poly),1))\n",
        "\n",
        "x_polyx1 = np.append(x, x_poly, axis = 1)\n",
        "x_polyf = np.append(x_polyx1, x_poly1, axis = 1)\n",
        "#x_polyx = np.append(x, x_poly11)\n",
        "x_polyf"
      ],
      "metadata": {
        "id": "VPU7wSHcs8_j"
      },
      "execution_count": null,
      "outputs": []
    },
    {
      "cell_type": "code",
      "source": [
        "x_polyf.shape"
      ],
      "metadata": {
        "colab": {
          "base_uri": "https://localhost:8080/"
        },
        "id": "QHBeafnFufHx",
        "outputId": "65b61320-3a17-4146-c1f7-dbee6e9fd907"
      },
      "execution_count": 104,
      "outputs": [
        {
          "output_type": "execute_result",
          "data": {
            "text/plain": [
              "(1030, 17)"
            ]
          },
          "metadata": {},
          "execution_count": 104
        }
      ]
    },
    {
      "cell_type": "markdown",
      "source": [
        "## number of input features with quadratic regression: 17 "
      ],
      "metadata": {
        "id": "aWYZbbdLDcIR"
      }
    },
    {
      "cell_type": "code",
      "source": [
        "x_trainpoly, x_testpoly, y_trainpoly, y_testpoly = train_test_split(x_polyf,y, test_size = 0.30, random_state = 21, stratify= None)"
      ],
      "metadata": {
        "id": "VvmeqJCSt3bm"
      },
      "execution_count": 130,
      "outputs": []
    },
    {
      "cell_type": "code",
      "source": [
        "w_poly = np.linalg.inv(x_trainpoly.T.dot(x_trainpoly)).dot(x_trainpoly.T).dot(y_trainpoly)\n",
        "w_poly"
      ],
      "metadata": {
        "colab": {
          "base_uri": "https://localhost:8080/"
        },
        "id": "yJTd8NezuRfT",
        "outputId": "ade6b5b7-84f6-4324-f58a-a51380059f60"
      },
      "execution_count": 131,
      "outputs": [
        {
          "output_type": "execute_result",
          "data": {
            "text/plain": [
              "array([ 1.45500079e-01,  1.25151168e-01,  8.84320497e-02, -4.43653564e-01,\n",
              "        8.72029750e-01, -1.26474852e-01,  2.53637118e-01,  3.62505371e-01,\n",
              "       -5.97583110e-05, -1.57981572e-04, -2.78095522e-04,  7.96005225e-04,\n",
              "       -3.17216133e-02,  6.82132152e-05, -1.59233949e-04, -8.21431246e-04,\n",
              "       -1.22248327e+01])"
            ]
          },
          "metadata": {},
          "execution_count": 131
        }
      ]
    },
    {
      "cell_type": "code",
      "source": [
        "y_predpoly = x_testpoly.dot(w_poly)\n",
        "y_predpoly"
      ],
      "metadata": {
        "id": "jkJZqtA5wVYx"
      },
      "execution_count": null,
      "outputs": []
    },
    {
      "cell_type": "code",
      "source": [
        "mean_squared_error(y_testpoly, y_predpoly)"
      ],
      "metadata": {
        "colab": {
          "base_uri": "https://localhost:8080/"
        },
        "id": "TJjJpT11wiMl",
        "outputId": "dc19e01e-6506-4e51-c9cf-a51a7c2a6333"
      },
      "execution_count": 133,
      "outputs": [
        {
          "output_type": "execute_result",
          "data": {
            "text/plain": [
              "66.87885601221636"
            ]
          },
          "metadata": {},
          "execution_count": 133
        }
      ]
    },
    {
      "cell_type": "code",
      "source": [
        "r2_score(y_testpoly, y_predpoly)"
      ],
      "metadata": {
        "colab": {
          "base_uri": "https://localhost:8080/"
        },
        "id": "a4_7zc7QwnPk",
        "outputId": "09d55c42-05c3-4446-ea78-f96ef9599ff8"
      },
      "execution_count": 134,
      "outputs": [
        {
          "output_type": "execute_result",
          "data": {
            "text/plain": [
              "0.7788242071344191"
            ]
          },
          "metadata": {},
          "execution_count": 134
        }
      ]
    },
    {
      "cell_type": "markdown",
      "source": [
        "##Q-3 answers:\n",
        "a.  number of input features with quadratic regression without bias: 16 \n",
        "\n",
        "##mean squared error:\n",
        "1. using sklearn = 102.49790694063597\n",
        "2. using normal equations = 102.49790694063606\n",
        "3. using l2 with normal equations: 102.49802719810728 (k = 0.0001)\n",
        "4. using quadratic regression = 66.87885601221636\n",
        "\n",
        "\n",
        "## r2 score \n",
        "1. using sklearn = 0.6610280560044766\n",
        "2. using normal equations = 0.6610280560044763\n",
        "3. using l2 with normal equations = 0.6610276582996839 (k=0.0001)\n",
        "4. using quadratic regression = 0.7788242071344191\n",
        "\n",
        "c. there is a significant improvement in the results using quadratic regression.\n",
        "\n",
        "d. for cubic linear regression model, number of input features, without bias, are 24.\n"
      ],
      "metadata": {
        "id": "5XcsjicsD1si"
      }
    },
    {
      "cell_type": "code",
      "source": [],
      "metadata": {
        "id": "_vUGHfoBJ1zi"
      },
      "execution_count": null,
      "outputs": []
    }
  ]
}